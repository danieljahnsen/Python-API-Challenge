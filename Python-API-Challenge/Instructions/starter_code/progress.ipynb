{
 "cells": [
  {
   "cell_type": "markdown",
   "metadata": {},
   "source": [
    "# WeatherPy\n",
    "----\n",
    "\n",
    "#### Note\n",
    "* Instructions have been included for each segment. You do not have to follow them exactly, but they are included to help you think through the steps."
   ]
  },
  {
   "cell_type": "code",
   "execution_count": 45,
   "metadata": {
    "scrolled": true
   },
   "outputs": [],
   "source": [
    "# Dependencies and Setup\n",
    "import matplotlib.pyplot as plt\n",
    "import pandas as pd\n",
    "import numpy as np\n",
    "import requests\n",
    "import time\n",
    "from scipy.stats import linregress\n",
    "\n",
    "# Import API key\n",
    "from api_keys import weather_api_key\n",
    "\n",
    "# Incorporated citipy to determine city based on latitude and longitude\n",
    "from citipy import citipy\n",
    "\n",
    "# Output File (CSV)\n",
    "output_data_file = \"output_data/cities.csv\"\n",
    "\n",
    "# Range of latitudes and longitudes\n",
    "lat_range = (-90, 90)\n",
    "lng_range = (-180, 180)"
   ]
  },
  {
   "cell_type": "markdown",
   "metadata": {},
   "source": [
    "## Generate Cities List"
   ]
  },
  {
   "cell_type": "code",
   "execution_count": 46,
   "metadata": {},
   "outputs": [
    {
     "data": {
      "text/plain": [
       "621"
      ]
     },
     "execution_count": 46,
     "metadata": {},
     "output_type": "execute_result"
    }
   ],
   "source": [
    "# List for holding lat_lngs and cities\n",
    "lat_lngs = []\n",
    "cities = []\n",
    "\n",
    "# Create a set of random lat and lng combinations\n",
    "lats = np.random.uniform(lat_range[0], lat_range[1], size=1500)\n",
    "lngs = np.random.uniform(lng_range[0], lng_range[1], size=1500)\n",
    "lat_lngs = zip(lats, lngs)\n",
    "\n",
    "# Identify nearest city for each lat, lng combination\n",
    "for lat_lng in lat_lngs:\n",
    "    city = citipy.nearest_city(lat_lng[0], lat_lng[1]).city_name\n",
    "    \n",
    "    # If the city is unique, then add it to a our cities list\n",
    "    if city not in cities:\n",
    "        cities.append(city)\n",
    "\n",
    "# Print the city count to confirm sufficient count\n",
    "len(cities)"
   ]
  },
  {
   "cell_type": "markdown",
   "metadata": {},
   "source": [
    "### Perform API Calls\n",
    "* Perform a weather check on each city using a series of successive API calls.\n",
    "* Include a print log of each city as it'sbeing processed (with the city number and city name).\n"
   ]
  },
  {
   "cell_type": "code",
   "execution_count": 47,
   "metadata": {},
   "outputs": [
    {
     "name": "stdout",
     "output_type": "stream",
     "text": [
      "City not found. Skipping....\n",
      "Processing Record 2 of Set 1 | bredasdorp\n",
      "Processing Record 3 of Set 1 | svetlogorsk\n",
      "Processing Record 4 of Set 1 | mataura\n",
      "Processing Record 5 of Set 1 | amuntai\n",
      "Processing Record 6 of Set 1 | port elizabeth\n",
      "Processing Record 7 of Set 1 | ushuaia\n",
      "Processing Record 8 of Set 1 | rikitea\n",
      "Processing Record 9 of Set 1 | upata\n",
      "Processing Record 10 of Set 1 | port alfred\n",
      "Processing Record 11 of Set 1 | jamestown\n",
      "Processing Record 12 of Set 1 | albany\n",
      "City not found. Skipping....\n",
      "Processing Record 14 of Set 1 | ribeira grande\n",
      "Processing Record 15 of Set 1 | vaini\n",
      "Processing Record 16 of Set 1 | east london\n",
      "Processing Record 17 of Set 1 | cape town\n",
      "Processing Record 18 of Set 1 | kultuk\n",
      "Processing Record 19 of Set 1 | olafsvik\n",
      "Processing Record 20 of Set 1 | qaanaaq\n",
      "City not found. Skipping....\n",
      "Processing Record 22 of Set 1 | richards bay\n",
      "Processing Record 23 of Set 1 | cherskiy\n",
      "Processing Record 24 of Set 1 | san cristobal\n",
      "City not found. Skipping....\n",
      "Processing Record 26 of Set 1 | hilo\n",
      "Processing Record 27 of Set 1 | arraial do cabo\n",
      "Processing Record 28 of Set 1 | aklavik\n",
      "City not found. Skipping....\n",
      "Processing Record 30 of Set 1 | puerto ayora\n",
      "Processing Record 31 of Set 1 | trelleborg\n",
      "Processing Record 32 of Set 1 | hithadhoo\n",
      "Processing Record 33 of Set 1 | kapaa\n",
      "City not found. Skipping....\n",
      "Processing Record 35 of Set 1 | nikolskoye\n",
      "City not found. Skipping....\n",
      "Processing Record 37 of Set 1 | udankudi\n",
      "Processing Record 38 of Set 1 | skibbereen\n",
      "Processing Record 39 of Set 1 | butaritari\n",
      "Processing Record 40 of Set 1 | ust-tsilma\n",
      "Processing Record 41 of Set 1 | tricase\n",
      "Processing Record 42 of Set 1 | lorengau\n",
      "Processing Record 43 of Set 1 | shimoda\n",
      "Processing Record 44 of Set 1 | kokkola\n",
      "Processing Record 45 of Set 1 | nanortalik\n",
      "Processing Record 46 of Set 1 | busselton\n",
      "Processing Record 47 of Set 1 | bollnas\n",
      "Processing Record 48 of Set 1 | parrsboro\n",
      "Processing Record 49 of Set 1 | bluff\n",
      "Processing Record 50 of Set 1 | salalah\n",
      "Processing Record 51 of Set 1 | upernavik\n",
      "Processing Record 52 of Set 1 | kodiak\n",
      "Processing Record 53 of Set 1 | kavieng\n",
      "Processing Record 54 of Set 1 | vila velha\n",
      "Processing Record 55 of Set 1 | artyom\n",
      "Processing Record 56 of Set 1 | loa janan\n",
      "City not found. Skipping....\n",
      "Processing Record 58 of Set 1 | novoilinsk\n",
      "Processing Record 59 of Set 1 | atuona\n",
      "Processing Record 60 of Set 1 | broome\n",
      "Processing Record 61 of Set 1 | noumea\n",
      "Processing Record 62 of Set 1 | punta arenas\n",
      "City not found. Skipping....\n",
      "Processing Record 64 of Set 1 | malindi\n",
      "Processing Record 65 of Set 1 | chuy\n",
      "Processing Record 66 of Set 1 | mar del plata\n",
      "Processing Record 67 of Set 1 | saravan\n",
      "Processing Record 68 of Set 1 | torbay\n",
      "Processing Record 69 of Set 1 | narsaq\n",
      "Processing Record 70 of Set 1 | cidreira\n",
      "Processing Record 71 of Set 1 | soe\n",
      "Processing Record 72 of Set 1 | iquitos\n",
      "Processing Record 73 of Set 1 | hualmay\n",
      "Processing Record 74 of Set 1 | mount isa\n",
      "Processing Record 75 of Set 1 | carnarvon\n",
      "Processing Record 76 of Set 1 | tiksi\n",
      "Processing Record 77 of Set 1 | pevek\n",
      "Processing Record 78 of Set 1 | saint-philippe\n",
      "Processing Record 79 of Set 1 | neyshabur\n",
      "Processing Record 80 of Set 1 | altamira\n",
      "City not found. Skipping....\n",
      "Processing Record 82 of Set 1 | bolshoy lug\n",
      "Processing Record 83 of Set 1 | camacha\n",
      "Processing Record 84 of Set 1 | piacabucu\n",
      "Processing Record 85 of Set 1 | ancud\n",
      "Processing Record 86 of Set 1 | castro\n",
      "Processing Record 87 of Set 1 | barrow\n",
      "Processing Record 88 of Set 1 | margate\n",
      "Processing Record 89 of Set 1 | tasiilaq\n",
      "Processing Record 90 of Set 1 | san quintin\n",
      "Processing Record 91 of Set 1 | mandalgovi\n",
      "Processing Record 92 of Set 1 | isangel\n",
      "Processing Record 93 of Set 1 | adrar\n",
      "Processing Record 94 of Set 1 | xining\n",
      "Processing Record 95 of Set 1 | poso\n",
      "Processing Record 96 of Set 1 | nampa\n",
      "City not found. Skipping....\n",
      "Processing Record 98 of Set 1 | isiro\n",
      "Processing Record 99 of Set 1 | nouadhibou\n",
      "Processing Record 100 of Set 1 | aswan\n",
      "City not found. Skipping....\n",
      "Processing Record 102 of Set 1 | samarinda\n",
      "Processing Record 103 of Set 1 | thompson\n",
      "Processing Record 104 of Set 1 | mutare\n",
      "City not found. Skipping....\n",
      "Processing Record 106 of Set 1 | avarua\n",
      "Processing Record 107 of Set 1 | sao filipe\n",
      "Processing Record 108 of Set 1 | bluefields\n",
      "Processing Record 109 of Set 1 | victoria\n",
      "Processing Record 110 of Set 1 | walvis bay\n",
      "Processing Record 111 of Set 1 | provideniya\n",
      "Processing Record 112 of Set 1 | lagoa\n",
      "Processing Record 113 of Set 1 | dandeli\n",
      "Processing Record 114 of Set 1 | saskylakh\n",
      "Processing Record 115 of Set 1 | kapit\n",
      "Processing Record 116 of Set 1 | kruisfontein\n",
      "Processing Record 117 of Set 1 | ilulissat\n",
      "Processing Record 118 of Set 1 | greenville\n",
      "Processing Record 119 of Set 1 | airai\n",
      "Processing Record 120 of Set 1 | bengkulu\n",
      "Processing Record 121 of Set 1 | hermanus\n",
      "Processing Record 122 of Set 1 | andenes\n",
      "Processing Record 123 of Set 1 | la rioja\n",
      "Processing Record 124 of Set 1 | bethel\n",
      "Processing Record 125 of Set 1 | swan hill\n",
      "City not found. Skipping....\n",
      "Processing Record 127 of Set 1 | pitimbu\n",
      "Processing Record 128 of Set 1 | hobart\n",
      "Processing Record 129 of Set 1 | clyde river\n",
      "City not found. Skipping....\n",
      "Processing Record 131 of Set 1 | udachnyy\n",
      "Processing Record 132 of Set 1 | faanui\n",
      "Processing Record 133 of Set 1 | dikson\n",
      "City not found. Skipping....\n",
      "Processing Record 135 of Set 1 | santa rosa\n",
      "Processing Record 136 of Set 1 | lompoc\n",
      "Processing Record 137 of Set 1 | sabirabad\n",
      "Processing Record 138 of Set 1 | springbok\n",
      "Processing Record 139 of Set 1 | kulhudhuffushi\n",
      "Processing Record 140 of Set 1 | zeya\n",
      "Processing Record 141 of Set 1 | codrington\n",
      "Processing Record 142 of Set 1 | mount forest\n",
      "Processing Record 143 of Set 1 | bambous virieux\n",
      "Processing Record 144 of Set 1 | monrovia\n",
      "Processing Record 145 of Set 1 | raudeberg\n",
      "Processing Record 146 of Set 1 | pochutla\n",
      "Processing Record 147 of Set 1 | mushie\n",
      "Processing Record 148 of Set 1 | nalut\n",
      "Processing Record 149 of Set 1 | miranda\n",
      "Processing Record 150 of Set 1 | kysyl-syr\n",
      "Processing Record 151 of Set 1 | sumenep\n",
      "Processing Record 152 of Set 1 | benton harbor\n",
      "Processing Record 153 of Set 1 | kanniyakumari\n",
      "Processing Record 154 of Set 1 | yar-sale\n",
      "City not found. Skipping....\n",
      "Processing Record 156 of Set 1 | porto novo\n",
      "Processing Record 157 of Set 1 | itacarambi\n",
      "Processing Record 158 of Set 1 | usinsk\n",
      "Processing Record 159 of Set 1 | inhambane\n",
      "Processing Record 160 of Set 1 | zanjan\n",
      "Processing Record 161 of Set 1 | espanola\n",
      "City not found. Skipping....\n",
      "Processing Record 163 of Set 1 | veraval\n",
      "Processing Record 164 of Set 1 | bogovarovo\n",
      "Processing Record 165 of Set 1 | tefe\n",
      "Processing Record 166 of Set 1 | katsuura\n",
      "Processing Record 167 of Set 1 | asau\n",
      "Processing Record 168 of Set 1 | alta floresta\n",
      "Processing Record 169 of Set 1 | biak\n",
      "Processing Record 170 of Set 1 | apodi\n",
      "Processing Record 171 of Set 1 | port lincoln\n",
      "Processing Record 172 of Set 1 | imamoglu\n",
      "City not found. Skipping....\n",
      "Processing Record 174 of Set 1 | babu\n",
      "Processing Record 175 of Set 1 | san rafael\n",
      "Processing Record 176 of Set 1 | atambua\n",
      "Processing Record 177 of Set 1 | ust-shonosha\n",
      "Processing Record 178 of Set 1 | tuktoyaktuk\n",
      "City not found. Skipping....\n",
      "Processing Record 180 of Set 1 | avera\n",
      "Processing Record 181 of Set 1 | georgetown\n",
      "Processing Record 182 of Set 1 | myskhako\n",
      "Processing Record 183 of Set 1 | chokurdakh\n",
      "City not found. Skipping....\n",
      "Processing Record 185 of Set 1 | acucena\n",
      "Processing Record 186 of Set 1 | baruun-urt\n",
      "Processing Record 187 of Set 1 | praia da vitoria\n",
      "Processing Record 188 of Set 1 | champerico\n",
      "Processing Record 189 of Set 1 | trairi\n",
      "Processing Record 190 of Set 1 | trenggalek\n",
      "Processing Record 191 of Set 1 | srednekolymsk\n",
      "Processing Record 192 of Set 1 | necochea\n",
      "Processing Record 193 of Set 1 | laguna\n",
      "Processing Record 194 of Set 1 | vikulovo\n",
      "Processing Record 195 of Set 1 | honiara\n",
      "Processing Record 196 of Set 1 | laramie\n",
      "Processing Record 197 of Set 1 | banda aceh\n",
      "Processing Record 198 of Set 1 | leningradskiy\n",
      "Processing Record 199 of Set 1 | barra do corda\n",
      "Processing Record 200 of Set 1 | aksu\n",
      "Processing Record 201 of Set 1 | wajima\n",
      "Processing Record 202 of Set 1 | logrono\n",
      "Processing Record 203 of Set 1 | esperance\n"
     ]
    },
    {
     "name": "stdout",
     "output_type": "stream",
     "text": [
      "Processing Record 204 of Set 1 | marsh harbour\n",
      "Processing Record 205 of Set 1 | geraldton\n",
      "Processing Record 206 of Set 1 | gamba\n",
      "Processing Record 207 of Set 1 | miramar\n",
      "Processing Record 208 of Set 1 | vao\n",
      "Processing Record 209 of Set 1 | sisimiut\n",
      "Processing Record 210 of Set 1 | groa\n",
      "Processing Record 211 of Set 1 | port hedland\n",
      "Processing Record 212 of Set 1 | saint-pierre\n",
      "Processing Record 213 of Set 1 | dhule\n",
      "Processing Record 214 of Set 1 | pergamino\n",
      "City not found. Skipping....\n",
      "Processing Record 216 of Set 1 | krasyukovskaya\n",
      "Processing Record 217 of Set 1 | lokosovo\n",
      "Processing Record 218 of Set 1 | balikpapan\n",
      "Processing Record 219 of Set 1 | port hardy\n",
      "Processing Record 220 of Set 1 | seymchan\n",
      "Processing Record 221 of Set 1 | caravelas\n",
      "Processing Record 222 of Set 1 | constitucion\n",
      "Processing Record 223 of Set 1 | nishihara\n",
      "Processing Record 224 of Set 1 | cumberland\n",
      "Processing Record 225 of Set 1 | tongren\n",
      "Processing Record 226 of Set 1 | martapura\n",
      "Processing Record 227 of Set 1 | maniitsoq\n",
      "Processing Record 228 of Set 1 | saint-joseph\n",
      "Processing Record 229 of Set 1 | uusikaupunki\n",
      "Processing Record 230 of Set 1 | komsomolskiy\n",
      "Processing Record 231 of Set 1 | galle\n",
      "Processing Record 232 of Set 1 | vadso\n",
      "Processing Record 233 of Set 1 | hami\n",
      "Processing Record 234 of Set 1 | na wa\n",
      "Processing Record 235 of Set 1 | san andres\n",
      "Processing Record 236 of Set 1 | marsaxlokk\n",
      "Processing Record 237 of Set 1 | mahebourg\n",
      "Processing Record 238 of Set 1 | kjollefjord\n",
      "Processing Record 239 of Set 1 | una\n",
      "Processing Record 240 of Set 1 | hobyo\n",
      "Processing Record 241 of Set 1 | yanliang\n",
      "Processing Record 242 of Set 1 | grand gaube\n",
      "Processing Record 243 of Set 1 | maragogi\n",
      "Processing Record 244 of Set 1 | new norfolk\n",
      "Processing Record 245 of Set 1 | henties bay\n",
      "Processing Record 246 of Set 1 | isla mujeres\n",
      "Processing Record 247 of Set 1 | iqaluit\n",
      "City not found. Skipping....\n",
      "Processing Record 249 of Set 1 | makakilo city\n",
      "Processing Record 250 of Set 1 | saint george\n",
      "City not found. Skipping....\n",
      "Processing Record 252 of Set 1 | deputatskiy\n",
      "Processing Record 253 of Set 1 | samarai\n",
      "Processing Record 254 of Set 1 | muisne\n",
      "City not found. Skipping....\n",
      "Processing Record 256 of Set 1 | sokoto\n",
      "Processing Record 257 of Set 1 | cabo san lucas\n",
      "Processing Record 258 of Set 1 | paamiut\n",
      "Processing Record 259 of Set 1 | lebu\n",
      "Processing Record 260 of Set 1 | kaitangata\n",
      "Processing Record 261 of Set 1 | hofn\n",
      "Processing Record 262 of Set 1 | bilaspur\n",
      "Processing Record 263 of Set 1 | khammam\n",
      "Processing Record 264 of Set 1 | santo antonio do leverger\n",
      "Processing Record 265 of Set 1 | nabire\n",
      "Processing Record 266 of Set 1 | sitka\n",
      "Processing Record 267 of Set 1 | kaiyuan\n",
      "City not found. Skipping....\n",
      "Processing Record 269 of Set 1 | wonosobo\n",
      "City not found. Skipping....\n",
      "Processing Record 271 of Set 1 | arlit\n",
      "Processing Record 272 of Set 1 | yellowknife\n",
      "Processing Record 273 of Set 1 | saint anthony\n",
      "Processing Record 274 of Set 1 | hasaki\n",
      "Processing Record 275 of Set 1 | jilib\n",
      "Processing Record 276 of Set 1 | amapa\n",
      "Processing Record 277 of Set 1 | buckeye\n",
      "Processing Record 278 of Set 1 | ponta do sol\n",
      "Processing Record 279 of Set 1 | beloha\n",
      "Processing Record 280 of Set 1 | berdigestyakh\n",
      "Processing Record 281 of Set 1 | mubi\n",
      "Processing Record 282 of Set 1 | chumikan\n",
      "Processing Record 283 of Set 1 | tlalchapa\n",
      "City not found. Skipping....\n",
      "Processing Record 285 of Set 1 | karasjok\n",
      "Processing Record 286 of Set 1 | egvekinot\n",
      "Processing Record 287 of Set 1 | naryan-mar\n",
      "Processing Record 288 of Set 1 | talnakh\n",
      "Processing Record 289 of Set 1 | makokou\n",
      "Processing Record 290 of Set 1 | boyuibe\n",
      "Processing Record 291 of Set 1 | wattegama\n",
      "Processing Record 292 of Set 1 | prado\n",
      "Processing Record 293 of Set 1 | souillac\n",
      "Processing Record 294 of Set 1 | trapani\n",
      "Processing Record 295 of Set 1 | coahuayana\n",
      "Processing Record 296 of Set 1 | norman wells\n",
      "City not found. Skipping....\n",
      "City not found. Skipping....\n",
      "Processing Record 299 of Set 1 | roald\n",
      "Processing Record 300 of Set 1 | aksay\n",
      "Processing Record 301 of Set 1 | hakkari\n",
      "Processing Record 302 of Set 1 | mtwara\n",
      "Processing Record 303 of Set 1 | yaguachi\n",
      "Processing Record 304 of Set 1 | iracoubo\n",
      "Processing Record 305 of Set 1 | vostok\n",
      "Processing Record 306 of Set 1 | saldanha\n",
      "Processing Record 307 of Set 1 | impfondo\n",
      "Processing Record 308 of Set 1 | fort frances\n",
      "Processing Record 309 of Set 1 | pemangkat\n",
      "Processing Record 310 of Set 1 | aban\n",
      "Processing Record 311 of Set 1 | port antonio\n",
      "Processing Record 312 of Set 1 | maldonado\n",
      "Processing Record 313 of Set 1 | andrelandia\n",
      "Processing Record 314 of Set 1 | houma\n",
      "City not found. Skipping....\n",
      "Processing Record 316 of Set 1 | sana\n",
      "Processing Record 317 of Set 1 | mareeba\n",
      "Processing Record 318 of Set 1 | bulgan\n",
      "Processing Record 319 of Set 1 | okha\n",
      "Processing Record 320 of Set 1 | bobo dioulasso\n",
      "Processing Record 321 of Set 1 | havelock\n",
      "Processing Record 322 of Set 1 | vestmannaeyjar\n",
      "Processing Record 323 of Set 1 | catamarca\n",
      "Processing Record 324 of Set 1 | severo-kurilsk\n",
      "Processing Record 325 of Set 1 | prince rupert\n",
      "Processing Record 326 of Set 1 | zhezkazgan\n",
      "Processing Record 327 of Set 1 | tura\n",
      "Processing Record 328 of Set 1 | petropavlovsk-kamchatskiy\n",
      "City not found. Skipping....\n",
      "Processing Record 330 of Set 1 | malartic\n",
      "Processing Record 331 of Set 1 | meulaboh\n",
      "Processing Record 332 of Set 1 | chernyshevskiy\n",
      "Processing Record 333 of Set 1 | uelzen\n",
      "City not found. Skipping....\n",
      "Processing Record 335 of Set 1 | taoudenni\n",
      "City not found. Skipping....\n",
      "Processing Record 337 of Set 1 | alyangula\n",
      "Processing Record 338 of Set 1 | sinnamary\n",
      "Processing Record 339 of Set 1 | yulara\n",
      "Processing Record 340 of Set 1 | mount pleasant\n",
      "Processing Record 341 of Set 1 | lewistown\n",
      "Processing Record 342 of Set 1 | comodoro rivadavia\n",
      "Processing Record 343 of Set 1 | scarborough\n",
      "Processing Record 344 of Set 1 | barabash\n",
      "City not found. Skipping....\n",
      "Processing Record 346 of Set 1 | tazovskiy\n",
      "Processing Record 347 of Set 1 | kavaratti\n",
      "Processing Record 348 of Set 1 | yerbogachen\n",
      "Processing Record 349 of Set 1 | benghazi\n",
      "Processing Record 350 of Set 1 | stornoway\n",
      "Processing Record 351 of Set 1 | la ronge\n",
      "Processing Record 352 of Set 1 | tomatlan\n",
      "Processing Record 353 of Set 1 | chor\n",
      "Processing Record 354 of Set 1 | shar\n",
      "Processing Record 355 of Set 1 | alofi\n",
      "City not found. Skipping....\n",
      "Processing Record 357 of Set 1 | coquimbo\n",
      "Processing Record 358 of Set 1 | guerrero negro\n",
      "Processing Record 359 of Set 1 | itaituba\n",
      "Processing Record 360 of Set 1 | kouqian\n",
      "Processing Record 361 of Set 1 | ostrovnoy\n",
      "Processing Record 362 of Set 1 | borogontsy\n",
      "Processing Record 363 of Set 1 | rantauprapat\n",
      "Processing Record 364 of Set 1 | lavrentiya\n",
      "Processing Record 365 of Set 1 | inirida\n",
      "Processing Record 366 of Set 1 | virginia beach\n",
      "City not found. Skipping....\n",
      "Processing Record 368 of Set 1 | manzhouli\n",
      "Processing Record 369 of Set 1 | calvia\n",
      "Processing Record 370 of Set 1 | lively\n",
      "Processing Record 371 of Set 1 | manono\n",
      "Processing Record 372 of Set 1 | chapais\n",
      "Processing Record 373 of Set 1 | kurakh\n",
      "Processing Record 374 of Set 1 | nome\n",
      "Processing Record 375 of Set 1 | faya\n",
      "Processing Record 376 of Set 1 | kalmunai\n",
      "Processing Record 377 of Set 1 | lianzhou\n",
      "Processing Record 378 of Set 1 | codajas\n",
      "Processing Record 379 of Set 1 | luanda\n",
      "Processing Record 380 of Set 1 | stryn\n",
      "Processing Record 381 of Set 1 | vila do maio\n",
      "Processing Record 382 of Set 1 | mamallapuram\n",
      "Processing Record 383 of Set 1 | santo antonio do ica\n",
      "Processing Record 384 of Set 1 | dubti\n",
      "Processing Record 385 of Set 1 | bintulu\n",
      "Processing Record 386 of Set 1 | ahipara\n",
      "Processing Record 387 of Set 1 | dzerzhinsk\n",
      "Processing Record 388 of Set 1 | eyl\n",
      "Processing Record 389 of Set 1 | cantagallo\n",
      "Processing Record 390 of Set 1 | lata\n",
      "Processing Record 391 of Set 1 | bathsheba\n",
      "City not found. Skipping....\n",
      "Processing Record 393 of Set 1 | sandakan\n",
      "Processing Record 394 of Set 1 | longyearbyen\n",
      "Processing Record 395 of Set 1 | oeiras\n",
      "Processing Record 396 of Set 1 | oriximina\n",
      "Processing Record 397 of Set 1 | jiazi\n",
      "Processing Record 398 of Set 1 | tuatapere\n",
      "Processing Record 399 of Set 1 | senneterre\n",
      "Processing Record 400 of Set 1 | olinda\n",
      "Processing Record 401 of Set 1 | freeport\n"
     ]
    },
    {
     "name": "stdout",
     "output_type": "stream",
     "text": [
      "Processing Record 402 of Set 1 | yanam\n",
      "Processing Record 403 of Set 1 | luderitz\n",
      "Processing Record 404 of Set 1 | mitsamiouli\n",
      "Processing Record 405 of Set 1 | maues\n",
      "Processing Record 406 of Set 1 | terre haute\n",
      "Processing Record 407 of Set 1 | podosinovets\n",
      "Processing Record 408 of Set 1 | westport\n",
      "Processing Record 409 of Set 1 | barentu\n",
      "Processing Record 410 of Set 1 | poum\n",
      "Processing Record 411 of Set 1 | bilma\n",
      "Processing Record 412 of Set 1 | tambopata\n",
      "Processing Record 413 of Set 1 | san vicente\n",
      "Processing Record 414 of Set 1 | ugoofaaru\n",
      "Processing Record 415 of Set 1 | ponta delgada\n",
      "Processing Record 416 of Set 1 | sao joao da barra\n",
      "Processing Record 417 of Set 1 | paraiso\n",
      "Processing Record 418 of Set 1 | zhigansk\n",
      "Processing Record 419 of Set 1 | kokopo\n",
      "Processing Record 420 of Set 1 | otjiwarongo\n",
      "City not found. Skipping....\n",
      "Processing Record 422 of Set 1 | rock springs\n",
      "Processing Record 423 of Set 1 | ulladulla\n",
      "Processing Record 424 of Set 1 | nikolayevsk-na-amure\n",
      "Processing Record 425 of Set 1 | cap malheureux\n",
      "Processing Record 426 of Set 1 | corinto\n",
      "Processing Record 427 of Set 1 | dawlatabad\n",
      "Processing Record 428 of Set 1 | muros\n",
      "Processing Record 429 of Set 1 | hantsport\n",
      "Processing Record 430 of Set 1 | alice springs\n",
      "Processing Record 431 of Set 1 | quelimane\n",
      "Processing Record 432 of Set 1 | chapada dos guimaraes\n",
      "Processing Record 433 of Set 1 | alugan\n",
      "Processing Record 434 of Set 1 | half moon bay\n",
      "Processing Record 435 of Set 1 | botro\n",
      "Processing Record 436 of Set 1 | auki\n",
      "Processing Record 437 of Set 1 | surami\n",
      "Processing Record 438 of Set 1 | wladyslawowo\n",
      "Processing Record 439 of Set 1 | mount gambier\n",
      "Processing Record 440 of Set 1 | majene\n",
      "Processing Record 441 of Set 1 | kalabo\n",
      "Processing Record 442 of Set 1 | hornepayne\n",
      "Processing Record 443 of Set 1 | union city\n",
      "City not found. Skipping....\n",
      "Processing Record 445 of Set 1 | basco\n",
      "Processing Record 446 of Set 1 | qaqortoq\n",
      "Processing Record 447 of Set 1 | menongue\n",
      "Processing Record 448 of Set 1 | evora\n",
      "Processing Record 449 of Set 1 | marsa matruh\n",
      "Processing Record 450 of Set 1 | khatanga\n",
      "Processing Record 451 of Set 1 | bafra\n",
      "Processing Record 452 of Set 1 | de aar\n",
      "Processing Record 453 of Set 1 | biskamzha\n",
      "Processing Record 454 of Set 1 | namibe\n",
      "Processing Record 455 of Set 1 | myitkyina\n",
      "City not found. Skipping....\n",
      "Processing Record 457 of Set 1 | kosh-agach\n",
      "Processing Record 458 of Set 1 | manaure\n",
      "Processing Record 459 of Set 1 | chara\n",
      "Processing Record 460 of Set 1 | aguas belas\n",
      "Processing Record 461 of Set 1 | manggar\n",
      "Processing Record 462 of Set 1 | miyako\n",
      "City not found. Skipping....\n",
      "Processing Record 464 of Set 1 | monywa\n",
      "Processing Record 465 of Set 1 | nyanguge\n",
      "Processing Record 466 of Set 1 | kuminskiy\n",
      "City not found. Skipping....\n",
      "Processing Record 468 of Set 1 | kachug\n",
      "Processing Record 469 of Set 1 | naze\n",
      "Processing Record 470 of Set 1 | lishui\n",
      "Processing Record 471 of Set 1 | at-bashi\n",
      "Processing Record 472 of Set 1 | bridgwater\n",
      "Processing Record 473 of Set 1 | elizabeth city\n",
      "Processing Record 474 of Set 1 | kohlu\n",
      "Processing Record 475 of Set 1 | gela\n",
      "Processing Record 476 of Set 1 | requena\n",
      "Processing Record 477 of Set 1 | manzanillo\n",
      "Processing Record 478 of Set 1 | santiago\n",
      "Processing Record 479 of Set 1 | novoagansk\n",
      "Processing Record 480 of Set 1 | zaykovo\n",
      "Processing Record 481 of Set 1 | coulommiers\n",
      "City not found. Skipping....\n",
      "Processing Record 483 of Set 1 | san carlos de bariloche\n",
      "Processing Record 484 of Set 1 | tautira\n",
      "Processing Record 485 of Set 1 | nigran\n",
      "Processing Record 486 of Set 1 | launceston\n",
      "Processing Record 487 of Set 1 | diamantino\n",
      "Processing Record 488 of Set 1 | chimbote\n",
      "Processing Record 489 of Set 1 | soyo\n",
      "Processing Record 490 of Set 1 | belmonte\n",
      "Processing Record 491 of Set 1 | sulangan\n",
      "Processing Record 492 of Set 1 | safaga\n",
      "City not found. Skipping....\n",
      "Processing Record 494 of Set 1 | acarau\n",
      "Processing Record 495 of Set 1 | khandyga\n",
      "Processing Record 496 of Set 1 | bushehr\n",
      "Processing Record 497 of Set 1 | cayenne\n",
      "Processing Record 498 of Set 1 | port blair\n",
      "Processing Record 499 of Set 1 | port-gentil\n",
      "Processing Record 500 of Set 1 | danielskuil\n",
      "Processing Record 501 of Set 1 | brookhaven\n",
      "Processing Record 502 of Set 1 | twentynine palms\n",
      "Processing Record 503 of Set 1 | tuy hoa\n",
      "Processing Record 504 of Set 1 | preobrazheniye\n",
      "Processing Record 505 of Set 1 | enugu\n",
      "Processing Record 506 of Set 1 | anadyr\n",
      "Processing Record 507 of Set 1 | boa vista\n",
      "Processing Record 508 of Set 1 | cuamba\n",
      "City not found. Skipping....\n",
      "Processing Record 510 of Set 1 | matongo\n",
      "Processing Record 511 of Set 1 | abha\n",
      "Processing Record 512 of Set 1 | quatre cocos\n",
      "Processing Record 513 of Set 1 | astoria\n",
      "Processing Record 514 of Set 1 | mahibadhoo\n",
      "Processing Record 515 of Set 1 | kumluca\n",
      "Processing Record 516 of Set 1 | urusha\n",
      "Processing Record 517 of Set 1 | praia\n",
      "Processing Record 518 of Set 1 | dasoguz\n",
      "Processing Record 519 of Set 1 | le port\n",
      "Processing Record 520 of Set 1 | bandarbeyla\n",
      "Processing Record 521 of Set 1 | college\n",
      "Processing Record 522 of Set 1 | porto walter\n",
      "Processing Record 523 of Set 1 | santa cruz das palmeiras\n",
      "Processing Record 524 of Set 1 | baghdad\n",
      "Processing Record 525 of Set 1 | mana\n",
      "Processing Record 526 of Set 1 | bilibino\n",
      "Processing Record 527 of Set 1 | vicosa do ceara\n",
      "Processing Record 528 of Set 1 | oussouye\n",
      "Processing Record 529 of Set 1 | corrente\n",
      "Processing Record 530 of Set 1 | nemuro\n",
      "Processing Record 531 of Set 1 | opuwo\n",
      "City not found. Skipping....\n",
      "Processing Record 533 of Set 1 | iskateley\n",
      "Processing Record 534 of Set 1 | beringovskiy\n",
      "Processing Record 535 of Set 1 | te anau\n",
      "Processing Record 536 of Set 1 | sydney\n",
      "Processing Record 537 of Set 1 | arman\n",
      "Processing Record 538 of Set 1 | cabedelo\n",
      "Processing Record 539 of Set 1 | kaeo\n",
      "Processing Record 540 of Set 1 | tubmanburg\n",
      "Processing Record 541 of Set 1 | dunedin\n",
      "Processing Record 542 of Set 1 | salisbury\n",
      "Processing Record 543 of Set 1 | martinsburg\n",
      "Processing Record 544 of Set 1 | kununurra\n",
      "Processing Record 545 of Set 1 | pareora\n",
      "Processing Record 546 of Set 1 | kayiry\n",
      "Processing Record 547 of Set 1 | palimbang\n",
      "Processing Record 548 of Set 1 | kangavar\n",
      "Processing Record 549 of Set 1 | mnogovershinnyy\n",
      "Processing Record 550 of Set 1 | fort nelson\n",
      "Processing Record 551 of Set 1 | emerald\n",
      "Processing Record 552 of Set 1 | presidente olegario\n",
      "Processing Record 553 of Set 1 | gizo\n",
      "Processing Record 554 of Set 1 | asfi\n",
      "Processing Record 555 of Set 1 | ampanihy\n",
      "Processing Record 556 of Set 1 | bubaque\n",
      "Processing Record 557 of Set 1 | tagusao\n",
      "Processing Record 558 of Set 1 | labuhan\n",
      "Processing Record 559 of Set 1 | palanas\n",
      "Processing Record 560 of Set 1 | matara\n",
      "Processing Record 561 of Set 1 | vilyuysk\n",
      "Processing Record 562 of Set 1 | tshikapa\n",
      "Processing Record 563 of Set 1 | broken hill\n",
      "City not found. Skipping....\n",
      "Processing Record 565 of Set 1 | san patricio\n",
      "Processing Record 566 of Set 1 | tabas\n",
      "Processing Record 567 of Set 1 | otterup\n",
      "Processing Record 568 of Set 1 | mehamn\n",
      "Processing Record 569 of Set 1 | changying\n",
      "Processing Record 570 of Set 1 | tiruchchendur\n",
      "Processing Record 571 of Set 1 | elat\n",
      "City not found. Skipping....\n",
      "Processing Record 573 of Set 1 | wum\n",
      "Processing Record 574 of Set 1 | gurjaani\n",
      "Processing Record 575 of Set 1 | krutinka\n",
      "Processing Record 576 of Set 1 | conde\n",
      "Processing Record 577 of Set 1 | aykhal\n",
      "Processing Record 578 of Set 1 | klaksvik\n",
      "Processing Record 579 of Set 1 | balagansk\n",
      "Processing Record 580 of Set 1 | beisfjord\n",
      "City not found. Skipping....\n",
      "Processing Record 582 of Set 1 | penzance\n",
      "Processing Record 583 of Set 1 | kikwit\n",
      "Processing Record 584 of Set 1 | pascagoula\n",
      "Processing Record 585 of Set 1 | kuna\n",
      "Processing Record 586 of Set 1 | iberia\n",
      "Processing Record 587 of Set 1 | punta alta\n",
      "Processing Record 588 of Set 1 | russell\n",
      "Processing Record 589 of Set 1 | santa cruz\n",
      "Processing Record 590 of Set 1 | uthal\n",
      "Processing Record 591 of Set 1 | pandan\n",
      "Processing Record 592 of Set 1 | krasnoselkup\n",
      "Processing Record 593 of Set 1 | chiang kham\n",
      "Processing Record 594 of Set 1 | meadow lake\n",
      "Processing Record 595 of Set 1 | indramayu\n",
      "Processing Record 596 of Set 1 | waingapu\n",
      "Processing Record 597 of Set 1 | rosetown\n",
      "Processing Record 598 of Set 1 | batticaloa\n"
     ]
    },
    {
     "name": "stdout",
     "output_type": "stream",
     "text": [
      "Processing Record 599 of Set 1 | minab\n",
      "Processing Record 600 of Set 1 | kieta\n",
      "Processing Record 601 of Set 1 | oshogbo\n",
      "Processing Record 602 of Set 1 | salinopolis\n",
      "Processing Record 603 of Set 1 | gat\n",
      "Processing Record 604 of Set 1 | anloga\n",
      "Processing Record 605 of Set 1 | sabang\n",
      "Processing Record 606 of Set 1 | buraydah\n",
      "Processing Record 607 of Set 1 | husavik\n",
      "Processing Record 608 of Set 1 | bestobe\n",
      "Processing Record 609 of Set 1 | santa isabel\n",
      "Processing Record 610 of Set 1 | apt\n",
      "Processing Record 611 of Set 1 | veere\n",
      "Processing Record 612 of Set 1 | alma\n",
      "Processing Record 613 of Set 1 | north battleford\n",
      "Processing Record 614 of Set 1 | rocha\n",
      "Processing Record 615 of Set 1 | ibitinga\n",
      "Processing Record 616 of Set 1 | dingle\n",
      "Processing Record 617 of Set 1 | suntar\n",
      "Processing Record 618 of Set 1 | dabakala\n",
      "Processing Record 619 of Set 1 | las vegas\n",
      "Processing Record 620 of Set 1 | mattru\n",
      "Processing Record 621 of Set 1 | bairiki\n"
     ]
    }
   ],
   "source": [
    "# Save config information.\n",
    "url = \"http://api.openweathermap.org/data/2.5/weather?\"\n",
    "units = \"metric\"\n",
    "\n",
    "# Build partial query URL\n",
    "query_url = f\"{url}appid={weather_api_key}&units={units}&q=\"\n",
    "\n",
    "#Variables to save while performing a weather check\n",
    "lats = []\n",
    "longs = []\n",
    "max_temp = []\n",
    "humid = []\n",
    "cloud = []\n",
    "wind_speed = []\n",
    "countries = []\n",
    "dates = []\n",
    "found_cities = []\n",
    "cycle_count = 1\n",
    "\n",
    "# Loop through cities and add the json values to the lists\n",
    "for x in cities:\n",
    "    #Using try, append the values if no errors\n",
    "    try:\n",
    "        #Store the values for the cities that have been found\n",
    "        response = requests.get(query_url + x).json()\n",
    "        lats.append(response['coord']['lat'])\n",
    "        longs.append(response['coord']['lat'])\n",
    "        max_temp.append(response['main']['temp_max'])\n",
    "        humid.append(response['main']['humidity'])\n",
    "        cloud.append(response['clouds']['all'])\n",
    "        wind_speed.append(response['wind']['speed'])\n",
    "        countries.append(response['sys']['country'])\n",
    "        dates.append(response['dt'])\n",
    "        found_cities.append(x)\n",
    "        \n",
    "        #Print a statement showing the search is successful\n",
    "        print(f\"Processing Record {cycle_count} of Set 1 | {x}\")\n",
    "    \n",
    "    except:\n",
    "        #If an error has been encountered \n",
    "        print(\"City not found. Skipping....\")\n",
    "        \n",
    "    #Keep track of the cycle count\n",
    "    cycle_count = cycle_count + 1\n"
   ]
  },
  {
   "cell_type": "markdown",
   "metadata": {},
   "source": [
    "### Convert Raw Data to DataFrame\n",
    "* Export the city data into a .csv.\n",
    "* Display the DataFrame"
   ]
  },
  {
   "cell_type": "code",
   "execution_count": 48,
   "metadata": {},
   "outputs": [
    {
     "data": {
      "text/html": [
       "<div>\n",
       "<style scoped>\n",
       "    .dataframe tbody tr th:only-of-type {\n",
       "        vertical-align: middle;\n",
       "    }\n",
       "\n",
       "    .dataframe tbody tr th {\n",
       "        vertical-align: top;\n",
       "    }\n",
       "\n",
       "    .dataframe thead th {\n",
       "        text-align: right;\n",
       "    }\n",
       "</style>\n",
       "<table border=\"1\" class=\"dataframe\">\n",
       "  <thead>\n",
       "    <tr style=\"text-align: right;\">\n",
       "      <th></th>\n",
       "      <th>City</th>\n",
       "      <th>Lat</th>\n",
       "      <th>Lng</th>\n",
       "      <th>Max Temp</th>\n",
       "      <th>Humidity</th>\n",
       "      <th>Cloudiness</th>\n",
       "      <th>Wind Speed</th>\n",
       "      <th>Country</th>\n",
       "      <th>Date</th>\n",
       "    </tr>\n",
       "  </thead>\n",
       "  <tbody>\n",
       "    <tr>\n",
       "      <th>0</th>\n",
       "      <td>bredasdorp</td>\n",
       "      <td>-34.53</td>\n",
       "      <td>-34.53</td>\n",
       "      <td>20.00</td>\n",
       "      <td>82</td>\n",
       "      <td>97</td>\n",
       "      <td>1.00</td>\n",
       "      <td>ZA</td>\n",
       "      <td>1608673925</td>\n",
       "    </tr>\n",
       "    <tr>\n",
       "      <th>1</th>\n",
       "      <td>svetlogorsk</td>\n",
       "      <td>52.63</td>\n",
       "      <td>52.63</td>\n",
       "      <td>-2.99</td>\n",
       "      <td>96</td>\n",
       "      <td>94</td>\n",
       "      <td>6.91</td>\n",
       "      <td>BY</td>\n",
       "      <td>1608673925</td>\n",
       "    </tr>\n",
       "    <tr>\n",
       "      <th>2</th>\n",
       "      <td>mataura</td>\n",
       "      <td>-46.19</td>\n",
       "      <td>-46.19</td>\n",
       "      <td>14.44</td>\n",
       "      <td>95</td>\n",
       "      <td>100</td>\n",
       "      <td>1.34</td>\n",
       "      <td>NZ</td>\n",
       "      <td>1608673925</td>\n",
       "    </tr>\n",
       "    <tr>\n",
       "      <th>3</th>\n",
       "      <td>amuntai</td>\n",
       "      <td>-2.42</td>\n",
       "      <td>-2.42</td>\n",
       "      <td>22.84</td>\n",
       "      <td>98</td>\n",
       "      <td>100</td>\n",
       "      <td>0.66</td>\n",
       "      <td>ID</td>\n",
       "      <td>1608673925</td>\n",
       "    </tr>\n",
       "    <tr>\n",
       "      <th>4</th>\n",
       "      <td>port elizabeth</td>\n",
       "      <td>-33.92</td>\n",
       "      <td>-33.92</td>\n",
       "      <td>21.00</td>\n",
       "      <td>94</td>\n",
       "      <td>24</td>\n",
       "      <td>2.10</td>\n",
       "      <td>ZA</td>\n",
       "      <td>1608673736</td>\n",
       "    </tr>\n",
       "  </tbody>\n",
       "</table>\n",
       "</div>"
      ],
      "text/plain": [
       "             City    Lat    Lng  Max Temp  Humidity  Cloudiness  Wind Speed  \\\n",
       "0      bredasdorp -34.53 -34.53     20.00        82          97        1.00   \n",
       "1     svetlogorsk  52.63  52.63     -2.99        96          94        6.91   \n",
       "2         mataura -46.19 -46.19     14.44        95         100        1.34   \n",
       "3         amuntai  -2.42  -2.42     22.84        98         100        0.66   \n",
       "4  port elizabeth -33.92 -33.92     21.00        94          24        2.10   \n",
       "\n",
       "  Country        Date  \n",
       "0      ZA  1608673925  \n",
       "1      BY  1608673925  \n",
       "2      NZ  1608673925  \n",
       "3      ID  1608673925  \n",
       "4      ZA  1608673736  "
      ]
     },
     "execution_count": 48,
     "metadata": {},
     "output_type": "execute_result"
    }
   ],
   "source": [
    "#Create a dataframe from the gathered data\n",
    "weather_df = pd.DataFrame({\n",
    "    \"City\": found_cities,\n",
    "    \"Lat\": lats,\n",
    "    \"Lng\": longs,\n",
    "    \"Max Temp\": max_temp,\n",
    "    \"Humidity\": humid,\n",
    "    \"Cloudiness\": cloud,\n",
    "    \"Wind Speed\": wind_speed,\n",
    "    \"Country\": countries,\n",
    "    \"Date\": dates\n",
    "})\n",
    "\n",
    "weather_df.head()"
   ]
  },
  {
   "cell_type": "code",
   "execution_count": 49,
   "metadata": {},
   "outputs": [
    {
     "data": {
      "text/html": [
       "<div>\n",
       "<style scoped>\n",
       "    .dataframe tbody tr th:only-of-type {\n",
       "        vertical-align: middle;\n",
       "    }\n",
       "\n",
       "    .dataframe tbody tr th {\n",
       "        vertical-align: top;\n",
       "    }\n",
       "\n",
       "    .dataframe thead th {\n",
       "        text-align: right;\n",
       "    }\n",
       "</style>\n",
       "<table border=\"1\" class=\"dataframe\">\n",
       "  <thead>\n",
       "    <tr style=\"text-align: right;\">\n",
       "      <th></th>\n",
       "      <th>Lat</th>\n",
       "      <th>Lng</th>\n",
       "      <th>Max Temp</th>\n",
       "      <th>Humidity</th>\n",
       "      <th>Cloudiness</th>\n",
       "      <th>Wind Speed</th>\n",
       "      <th>Date</th>\n",
       "    </tr>\n",
       "  </thead>\n",
       "  <tbody>\n",
       "    <tr>\n",
       "      <th>count</th>\n",
       "      <td>571.000000</td>\n",
       "      <td>571.000000</td>\n",
       "      <td>571.000000</td>\n",
       "      <td>571.000000</td>\n",
       "      <td>571.000000</td>\n",
       "      <td>571.000000</td>\n",
       "      <td>5.710000e+02</td>\n",
       "    </tr>\n",
       "    <tr>\n",
       "      <th>mean</th>\n",
       "      <td>19.042802</td>\n",
       "      <td>19.042802</td>\n",
       "      <td>10.909212</td>\n",
       "      <td>75.387040</td>\n",
       "      <td>53.541156</td>\n",
       "      <td>3.664553</td>\n",
       "      <td>1.608674e+09</td>\n",
       "    </tr>\n",
       "    <tr>\n",
       "      <th>std</th>\n",
       "      <td>32.901561</td>\n",
       "      <td>32.901561</td>\n",
       "      <td>18.030466</td>\n",
       "      <td>18.559315</td>\n",
       "      <td>39.447495</td>\n",
       "      <td>2.836459</td>\n",
       "      <td>6.662816e+01</td>\n",
       "    </tr>\n",
       "    <tr>\n",
       "      <th>min</th>\n",
       "      <td>-54.800000</td>\n",
       "      <td>-54.800000</td>\n",
       "      <td>-44.200000</td>\n",
       "      <td>4.000000</td>\n",
       "      <td>0.000000</td>\n",
       "      <td>0.060000</td>\n",
       "      <td>1.608673e+09</td>\n",
       "    </tr>\n",
       "    <tr>\n",
       "      <th>25%</th>\n",
       "      <td>-7.025000</td>\n",
       "      <td>-7.025000</td>\n",
       "      <td>1.895000</td>\n",
       "      <td>66.500000</td>\n",
       "      <td>10.000000</td>\n",
       "      <td>1.500000</td>\n",
       "      <td>1.608674e+09</td>\n",
       "    </tr>\n",
       "    <tr>\n",
       "      <th>50%</th>\n",
       "      <td>20.340000</td>\n",
       "      <td>20.340000</td>\n",
       "      <td>17.000000</td>\n",
       "      <td>80.000000</td>\n",
       "      <td>67.000000</td>\n",
       "      <td>3.100000</td>\n",
       "      <td>1.608674e+09</td>\n",
       "    </tr>\n",
       "    <tr>\n",
       "      <th>75%</th>\n",
       "      <td>46.815000</td>\n",
       "      <td>46.815000</td>\n",
       "      <td>25.000000</td>\n",
       "      <td>88.000000</td>\n",
       "      <td>91.000000</td>\n",
       "      <td>5.100000</td>\n",
       "      <td>1.608674e+09</td>\n",
       "    </tr>\n",
       "    <tr>\n",
       "      <th>max</th>\n",
       "      <td>78.220000</td>\n",
       "      <td>78.220000</td>\n",
       "      <td>34.000000</td>\n",
       "      <td>100.000000</td>\n",
       "      <td>100.000000</td>\n",
       "      <td>21.600000</td>\n",
       "      <td>1.608674e+09</td>\n",
       "    </tr>\n",
       "  </tbody>\n",
       "</table>\n",
       "</div>"
      ],
      "text/plain": [
       "              Lat         Lng    Max Temp    Humidity  Cloudiness  Wind Speed  \\\n",
       "count  571.000000  571.000000  571.000000  571.000000  571.000000  571.000000   \n",
       "mean    19.042802   19.042802   10.909212   75.387040   53.541156    3.664553   \n",
       "std     32.901561   32.901561   18.030466   18.559315   39.447495    2.836459   \n",
       "min    -54.800000  -54.800000  -44.200000    4.000000    0.000000    0.060000   \n",
       "25%     -7.025000   -7.025000    1.895000   66.500000   10.000000    1.500000   \n",
       "50%     20.340000   20.340000   17.000000   80.000000   67.000000    3.100000   \n",
       "75%     46.815000   46.815000   25.000000   88.000000   91.000000    5.100000   \n",
       "max     78.220000   78.220000   34.000000  100.000000  100.000000   21.600000   \n",
       "\n",
       "               Date  \n",
       "count  5.710000e+02  \n",
       "mean   1.608674e+09  \n",
       "std    6.662816e+01  \n",
       "min    1.608673e+09  \n",
       "25%    1.608674e+09  \n",
       "50%    1.608674e+09  \n",
       "75%    1.608674e+09  \n",
       "max    1.608674e+09  "
      ]
     },
     "execution_count": 49,
     "metadata": {},
     "output_type": "execute_result"
    }
   ],
   "source": [
    "weather_df.describe()"
   ]
  },
  {
   "cell_type": "markdown",
   "metadata": {},
   "source": [
    "## Inspect the data and remove the cities where the humidity > 100%.\n",
    "----\n",
    "Skip this step if there are no cities that have humidity > 100%. "
   ]
  },
  {
   "cell_type": "code",
   "execution_count": 50,
   "metadata": {},
   "outputs": [],
   "source": [
    "#Since the max of Humidity is 100, there are no cities with humidity greater than 100"
   ]
  },
  {
   "cell_type": "markdown",
   "metadata": {},
   "source": [
    "## Plotting the Data\n",
    "* Use proper labeling of the plots using plot titles (including date of analysis) and axes labels.\n",
    "* Save the plotted figures as .pngs."
   ]
  },
  {
   "cell_type": "markdown",
   "metadata": {},
   "source": [
    "## Latitude vs. Temperature Plot"
   ]
  },
  {
   "cell_type": "code",
   "execution_count": 51,
   "metadata": {},
   "outputs": [
    {
     "data": {
      "image/png": "[encoded data removed]",
      "text/plain": [
       "<Figure size 432x288 with 1 Axes>"
      ]
     },
     "metadata": {
      "needs_background": "light"
     },
     "output_type": "display_data"
    }
   ],
   "source": [
    "#Create a scatter plot for city latitude vs. max temperature\n",
    "plt.scatter(weather_df['Lat'], weather_df['Max Temp'], color='Blue', marker='o')\n",
    "plt.xlabel('Latitude')\n",
    "plt.ylabel('Max Temperature (C)')\n",
    "plt.title('City Latitude vs. Max Temperature')\n",
    "plt.grid()\n",
    "plt.show()"
   ]
  },
  {
   "cell_type": "markdown",
   "metadata": {},
   "source": [
    "## Latitude vs. Humidity Plot"
   ]
  },
  {
   "cell_type": "code",
   "execution_count": 52,
   "metadata": {},
   "outputs": [
    {
     "data": {
      "image/png": "[encoded data removed]",
      "text/plain": [
       "<Figure size 432x288 with 1 Axes>"
      ]
     },
     "metadata": {
      "needs_background": "light"
     },
     "output_type": "display_data"
    }
   ],
   "source": [
    "#Create a scatter plot for city latitude vs. humidity\n",
    "plt.scatter(weather_df['Lat'], weather_df['Humidity'], color='Blue', marker='o')\n",
    "plt.xlabel('Latitude')\n",
    "plt.ylabel('Humidity %')\n",
    "plt.title('City Latitude vs. Humidity')\n",
    "plt.grid()\n",
    "plt.show()"
   ]
  },
  {
   "cell_type": "markdown",
   "metadata": {},
   "source": [
    "## Latitude vs. Cloudiness Plot"
   ]
  },
  {
   "cell_type": "code",
   "execution_count": 53,
   "metadata": {},
   "outputs": [
    {
     "data": {
      "image/png": "[encoded data removed]",
      "text/plain": [
       "<Figure size 432x288 with 1 Axes>"
      ]
     },
     "metadata": {
      "needs_background": "light"
     },
     "output_type": "display_data"
    }
   ],
   "source": [
    "#Create a scatter plot for city latitude vs. Cloudiness\n",
    "plt.scatter(weather_df['Lat'], weather_df['Cloudiness'], color='Blue', marker='o')\n",
    "plt.xlabel('Latitude')\n",
    "plt.ylabel('Cloudiness %')\n",
    "plt.title('City Latitude vs. Cloudiness')\n",
    "plt.grid()\n",
    "plt.show()"
   ]
  },
  {
   "cell_type": "markdown",
   "metadata": {},
   "source": [
    "## Latitude vs. Wind Speed Plot"
   ]
  },
  {
   "cell_type": "code",
   "execution_count": 54,
   "metadata": {},
   "outputs": [
    {
     "data": {
      "image/png": "[encoded data removed]",
      "text/plain": [
       "<Figure size 432x288 with 1 Axes>"
      ]
     },
     "metadata": {
      "needs_background": "light"
     },
     "output_type": "display_data"
    }
   ],
   "source": [
    "#Create a scatter plot for city latitude vs. wind speed\n",
    "plt.scatter(weather_df['Lat'], weather_df['Wind Speed'], color='Blue', marker='o')\n",
    "plt.xlabel('Latitude')\n",
    "plt.ylabel('Wind Speed (mph)')\n",
    "plt.title('City Latitude vs. Wind Speed')\n",
    "plt.grid()\n",
    "plt.show()"
   ]
  },
  {
   "cell_type": "markdown",
   "metadata": {},
   "source": [
    "## Linear Regression"
   ]
  },
  {
   "cell_type": "code",
   "execution_count": 55,
   "metadata": {},
   "outputs": [],
   "source": [
    "# First we need to create dfs for Northern and Southern Hemispheres\n",
    "northern_df = []\n",
    "southern_df = []\n",
    "\n",
    "for column,row in weather_df.iterrows():\n",
    "    if row['Lng'] > 0:\n",
    "        northern_df.append(row)\n",
    "    else:\n",
    "        southern_df.append(row)\n",
    "        \n",
    "northern_df = pd.DataFrame(northern_df)\n",
    "southern_df = pd.DataFrame(southern_df)"
   ]
  },
  {
   "cell_type": "markdown",
   "metadata": {},
   "source": [
    "####  Northern Hemisphere - Max Temp vs. Latitude Linear Regression"
   ]
  },
  {
   "cell_type": "code",
   "execution_count": 56,
   "metadata": {},
   "outputs": [
    {
     "name": "stdout",
     "output_type": "stream",
     "text": [
      "R squared: 0.7059491724686081\n"
     ]
    },
    {
     "data": {
      "image/png": "[encoded data removed]",
      "text/plain": [
       "<Figure size 432x288 with 1 Axes>"
      ]
     },
     "metadata": {
      "needs_background": "light"
     },
     "output_type": "display_data"
    }
   ],
   "source": [
    "#Using the regression code from Python API day 3 activity 10\n",
    "x_values = northern_df['Lat'].astype('float')\n",
    "y_values = northern_df['Max Temp'].astype('float')\n",
    "\n",
    "# Run linear regression\n",
    "(slope, intercept, rvalue, pvalue, stderr) = linregress(x_values, y_values)\n",
    "regress_values = x_values * slope + intercept\n",
    "line_eq = \"y = \" + str(round(slope,2)) + \"x + \" + str(round(intercept,2))\n",
    "\n",
    "# Plot scatter plot\n",
    "plt.scatter(x_values,y_values)\n",
    "\n",
    "# Plot regression line\n",
    "plt.plot(x_values,regress_values,\"r-\")\n",
    "plt.annotate(line_eq,(0,-20),fontsize=15,color=\"red\")\n",
    "\n",
    "# Label plot\n",
    "plt.xlabel('Latitude')\n",
    "plt.ylabel('Max Temp')\n",
    "\n",
    "# Print r square value\n",
    "print(f\"R squared: {rvalue**2}\")\n",
    "\n",
    "# Show plot\n",
    "plt.show()"
   ]
  },
  {
   "cell_type": "markdown",
   "metadata": {},
   "source": [
    "####  Southern Hemisphere - Max Temp vs. Latitude Linear Regression"
   ]
  },
  {
   "cell_type": "code",
   "execution_count": 57,
   "metadata": {},
   "outputs": [
    {
     "name": "stdout",
     "output_type": "stream",
     "text": [
      "R squared: 0.3398969890751911\n"
     ]
    },
    {
     "data": {
      "image/png": "[encoded data removed]",
      "text/plain": [
       "<Figure size 432x288 with 1 Axes>"
      ]
     },
     "metadata": {
      "needs_background": "light"
     },
     "output_type": "display_data"
    }
   ],
   "source": [
    "#Same code from above but the hemispheres are switched\n",
    "x_values = southern_df['Lat'].astype('float')\n",
    "y_values = southern_df['Max Temp'].astype('float')\n",
    "\n",
    "# Run linear regression\n",
    "(slope, intercept, rvalue, pvalue, stderr) = linregress(x_values, y_values)\n",
    "regress_values = x_values * slope + intercept\n",
    "line_eq = \"y = \" + str(round(slope,2)) + \"x + \" + str(round(intercept,2))\n",
    "\n",
    "# Plot scatter plot\n",
    "plt.scatter(x_values,y_values)\n",
    "\n",
    "# Plot regression line\n",
    "plt.plot(x_values,regress_values,\"r-\")\n",
    "plt.annotate(line_eq,(0,-20),fontsize=15,color=\"red\")\n",
    "\n",
    "# Label plot\n",
    "plt.xlabel('Latitude')\n",
    "plt.ylabel('Max Temp')\n",
    "\n",
    "# Print r square value\n",
    "print(f\"R squared: {rvalue**2}\")\n",
    "\n",
    "# Show plot\n",
    "plt.show()"
   ]
  },
  {
   "cell_type": "markdown",
   "metadata": {},
   "source": [
    "####  Northern Hemisphere - Humidity (%) vs. Latitude Linear Regression"
   ]
  },
  {
   "cell_type": "code",
   "execution_count": 63,
   "metadata": {},
   "outputs": [
    {
     "name": "stdout",
     "output_type": "stream",
     "text": [
      "R squared: 0.058502173722994925\n"
     ]
    },
    {
     "data": {
      "image/png": "[encoded data removed]",
      "text/plain": [
       "<Figure size 432x288 with 1 Axes>"
      ]
     },
     "metadata": {
      "needs_background": "light"
     },
     "output_type": "display_data"
    }
   ],
   "source": [
    "x_values = northern_df['Lat'].astype('float')\n",
    "y_values = northern_df['Humidity'].astype('float')\n",
    "\n",
    "# Run linear regression\n",
    "(slope, intercept, rvalue, pvalue, stderr) = linregress(x_values, y_values)\n",
    "regress_values = x_values * slope + intercept\n",
    "line_eq = \"y = \" + str(round(slope,2)) + \"x + \" + str(round(intercept,2))\n",
    "\n",
    "# Plot scatter plot\n",
    "plt.scatter(x_values,y_values)\n",
    "\n",
    "# Plot regression line\n",
    "plt.plot(x_values,regress_values,\"r-\")\n",
    "plt.annotate(line_eq,(0,-20),fontsize=15,color=\"red\")\n",
    "\n",
    "# Label plot\n",
    "plt.xlabel('Latitude')\n",
    "plt.ylabel('Humidity')\n",
    "\n",
    "# Print r square value\n",
    "print(f\"R squared: {rvalue**2}\")\n",
    "\n",
    "# Show plot\n",
    "plt.show()"
   ]
  },
  {
   "cell_type": "markdown",
   "metadata": {},
   "source": [
    "####  Southern Hemisphere - Humidity (%) vs. Latitude Linear Regression"
   ]
  },
  {
   "cell_type": "code",
   "execution_count": 64,
   "metadata": {},
   "outputs": [
    {
     "name": "stdout",
     "output_type": "stream",
     "text": [
      "R squared: 0.06504298043622206\n"
     ]
    },
    {
     "data": {
      "image/png": "[encoded data removed]",
      "text/plain": [
       "<Figure size 432x288 with 1 Axes>"
      ]
     },
     "metadata": {
      "needs_background": "light"
     },
     "output_type": "display_data"
    }
   ],
   "source": [
    "x_values = southern_df['Lat'].astype('float')\n",
    "y_values = southern_df['Humidity'].astype('float')\n",
    "\n",
    "# Run linear regression\n",
    "(slope, intercept, rvalue, pvalue, stderr) = linregress(x_values, y_values)\n",
    "regress_values = x_values * slope + intercept\n",
    "line_eq = \"y = \" + str(round(slope,2)) + \"x + \" + str(round(intercept,2))\n",
    "\n",
    "# Plot scatter plot\n",
    "plt.scatter(x_values,y_values)\n",
    "\n",
    "# Plot regression line\n",
    "plt.plot(x_values,regress_values,\"r-\")\n",
    "plt.annotate(line_eq,(0,-20),fontsize=15,color=\"red\")\n",
    "\n",
    "# Label plot\n",
    "plt.xlabel('Latitude')\n",
    "plt.ylabel('Humidity')\n",
    "\n",
    "# Print r square value\n",
    "print(f\"R squared: {rvalue**2}\")\n",
    "\n",
    "# Show plot\n",
    "plt.show()"
   ]
  },
  {
   "cell_type": "markdown",
   "metadata": {},
   "source": [
    "####  Northern Hemisphere - Cloudiness (%) vs. Latitude Linear Regression"
   ]
  },
  {
   "cell_type": "code",
   "execution_count": 65,
   "metadata": {},
   "outputs": [
    {
     "name": "stdout",
     "output_type": "stream",
     "text": [
      "R squared: 0.046184659647749704\n"
     ]
    },
    {
     "data": {
      "image/png": "[encoded data removed]",
      "text/plain": [
       "<Figure size 432x288 with 1 Axes>"
      ]
     },
     "metadata": {
      "needs_background": "light"
     },
     "output_type": "display_data"
    }
   ],
   "source": [
    "x_values = northern_df['Lat'].astype('float')\n",
    "y_values = northern_df['Cloudiness'].astype('float')\n",
    "\n",
    "# Run linear regression\n",
    "(slope, intercept, rvalue, pvalue, stderr) = linregress(x_values, y_values)\n",
    "regress_values = x_values * slope + intercept\n",
    "line_eq = \"y = \" + str(round(slope,2)) + \"x + \" + str(round(intercept,2))\n",
    "\n",
    "# Plot scatter plot\n",
    "plt.scatter(x_values,y_values)\n",
    "\n",
    "# Plot regression line\n",
    "plt.plot(x_values,regress_values,\"r-\")\n",
    "plt.annotate(line_eq,(0,-20),fontsize=15,color=\"red\")\n",
    "\n",
    "# Label plot\n",
    "plt.xlabel('Latitude')\n",
    "plt.ylabel('Cloudiness')\n",
    "\n",
    "# Print r square value\n",
    "print(f\"R squared: {rvalue**2}\")\n",
    "\n",
    "# Show plot\n",
    "plt.show()"
   ]
  },
  {
   "cell_type": "markdown",
   "metadata": {},
   "source": [
    "####  Southern Hemisphere - Cloudiness (%) vs. Latitude Linear Regression"
   ]
  },
  {
   "cell_type": "code",
   "execution_count": 66,
   "metadata": {},
   "outputs": [
    {
     "name": "stdout",
     "output_type": "stream",
     "text": [
      "R squared: 0.06208447267710301\n"
     ]
    },
    {
     "data": {
      "image/png": "[encoded data removed]",
      "text/plain": [
       "<Figure size 432x288 with 1 Axes>"
      ]
     },
     "metadata": {
      "needs_background": "light"
     },
     "output_type": "display_data"
    }
   ],
   "source": [
    "x_values = southern_df['Lat'].astype('float')\n",
    "y_values = southern_df['Cloudiness'].astype('float')\n",
    "\n",
    "# Run linear regression\n",
    "(slope, intercept, rvalue, pvalue, stderr) = linregress(x_values, y_values)\n",
    "regress_values = x_values * slope + intercept\n",
    "line_eq = \"y = \" + str(round(slope,2)) + \"x + \" + str(round(intercept,2))\n",
    "\n",
    "# Plot scatter plot\n",
    "plt.scatter(x_values,y_values)\n",
    "\n",
    "# Plot regression line\n",
    "plt.plot(x_values,regress_values,\"r-\")\n",
    "plt.annotate(line_eq,(0,-20),fontsize=15,color=\"red\")\n",
    "\n",
    "# Label plot\n",
    "plt.xlabel('Latitude')\n",
    "plt.ylabel('Cloudiness')\n",
    "\n",
    "# Print r square value\n",
    "print(f\"R squared: {rvalue**2}\")\n",
    "\n",
    "# Show plot\n",
    "plt.show()"
   ]
  },
  {
   "cell_type": "markdown",
   "metadata": {},
   "source": [
    "####  Northern Hemisphere - Wind Speed (mph) vs. Latitude Linear Regression"
   ]
  },
  {
   "cell_type": "code",
   "execution_count": 68,
   "metadata": {},
   "outputs": [
    {
     "name": "stdout",
     "output_type": "stream",
     "text": [
      "R squared: 0.01509907303584045\n"
     ]
    },
    {
     "data": {
      "image/png": "[encoded data removed]",
      "text/plain": [
       "<Figure size 432x288 with 1 Axes>"
      ]
     },
     "metadata": {
      "needs_background": "light"
     },
     "output_type": "display_data"
    }
   ],
   "source": [
    "x_values = northern_df['Lat'].astype('float')\n",
    "y_values = northern_df['Wind Speed'].astype('float')\n",
    "\n",
    "# Run linear regression\n",
    "(slope, intercept, rvalue, pvalue, stderr) = linregress(x_values, y_values)\n",
    "regress_values = x_values * slope + intercept\n",
    "line_eq = \"y = \" + str(round(slope,2)) + \"x + \" + str(round(intercept,2))\n",
    "\n",
    "# Plot scatter plot\n",
    "plt.scatter(x_values,y_values)\n",
    "\n",
    "# Plot regression line\n",
    "plt.plot(x_values,regress_values,\"r-\")\n",
    "plt.annotate(line_eq,(0,-20),fontsize=15,color=\"red\")\n",
    "\n",
    "# Label plot\n",
    "plt.xlabel('Latitude')\n",
    "plt.ylabel('Wind Speed')\n",
    "\n",
    "# Print r square value\n",
    "print(f\"R squared: {rvalue**2}\")\n",
    "\n",
    "# Show plot\n",
    "plt.show()"
   ]
  },
  {
   "cell_type": "markdown",
   "metadata": {},
   "source": [
    "####  Southern Hemisphere - Wind Speed (mph) vs. Latitude Linear Regression"
   ]
  },
  {
   "cell_type": "code",
   "execution_count": 32,
   "metadata": {},
   "outputs": [
    {
     "name": "stdout",
     "output_type": "stream",
     "text": [
      "The r-value is: 0.017128274759839232\n"
     ]
    },
    {
     "data": {
      "image/png": "[encoded data removed]",
      "text/plain": [
       "<Figure size 432x288 with 1 Axes>"
      ]
     },
     "metadata": {
      "needs_background": "light"
     },
     "output_type": "display_data"
    }
   ],
   "source": []
  },
  {
   "cell_type": "code",
   "execution_count": null,
   "metadata": {},
   "outputs": [],
   "source": []
  }
 ],
 "metadata": {
  "anaconda-cloud": {},
  "kernel_info": {
   "name": "python3"
  },
  "kernelspec": {
   "display_name": "Python (PythonData)",
   "language": "python",
   "name": "pythondata"
  },
  "language_info": {
   "codemirror_mode": {
    "name": "ipython",
    "version": 3
   },
   "file_extension": ".py",
   "mimetype": "text/x-python",
   "name": "python",
   "nbconvert_exporter": "python",
   "pygments_lexer": "ipython3",
   "version": "3.8.5"
  },
  "latex_envs": {
   "LaTeX_envs_menu_present": true,
   "autoclose": false,
   "autocomplete": true,
   "bibliofile": "biblio.bib",
   "cite_by": "apalike",
   "current_citInitial": 1,
   "eqLabelWithNumbers": true,
   "eqNumInitial": 1,
   "hotkeys": {
    "equation": "Ctrl-E",
    "itemize": "Ctrl-I"
   },
   "labels_anchors": false,
   "latex_user_defs": false,
   "report_style_numbering": false,
   "user_envs_cfg": false
  },
  "nteract": {
   "version": "0.12.3"
  }
 },
 "nbformat": 4,
 "nbformat_minor": 2
}
