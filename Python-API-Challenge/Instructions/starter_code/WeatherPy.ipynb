{
 "cells": [
  {
   "cell_type": "markdown",
   "metadata": {},
   "source": [
    "# WeatherPy\n",
    "----\n",
    "\n",
    "#### Note\n",
    "* Instructions have been included for each segment. You do not have to follow them exactly, but they are included to help you think through the steps."
   ]
  },
  {
   "cell_type": "code",
   "execution_count": 24,
   "metadata": {
    "scrolled": true
   },
   "outputs": [],
   "source": [
    "# Dependencies and Setup\n",
    "import matplotlib.pyplot as plt\n",
    "import pandas as pd\n",
    "import numpy as np\n",
    "import requests\n",
    "import time\n",
    "from scipy.stats import linregress\n",
    "\n",
    "# Import API key\n",
    "from api_keys import weather_api_key\n",
    "\n",
    "# Incorporated citipy to determine city based on latitude and longitude\n",
    "from citipy import citipy\n",
    "\n",
    "# Output File (CSV)\n",
    "output_data_file = \"output_data/cities.csv\"\n",
    "\n",
    "# Range of latitudes and longitudes\n",
    "lat_range = (-90, 90)\n",
    "lng_range = (-180, 180)"
   ]
  },
  {
   "cell_type": "markdown",
   "metadata": {},
   "source": [
    "## Generate Cities List"
   ]
  },
  {
   "cell_type": "code",
   "execution_count": 25,
   "metadata": {},
   "outputs": [
    {
     "data": {
      "text/plain": [
       "632"
      ]
     },
     "execution_count": 25,
     "metadata": {},
     "output_type": "execute_result"
    }
   ],
   "source": [
    "# List for holding lat_lngs and cities\n",
    "lat_lngs = []\n",
    "cities = []\n",
    "\n",
    "# Create a set of random lat and lng combinations\n",
    "lats = np.random.uniform(lat_range[0], lat_range[1], size=1500)\n",
    "lngs = np.random.uniform(lng_range[0], lng_range[1], size=1500)\n",
    "lat_lngs = zip(lats, lngs)\n",
    "\n",
    "# Identify nearest city for each lat, lng combination\n",
    "for lat_lng in lat_lngs:\n",
    "    city = citipy.nearest_city(lat_lng[0], lat_lng[1]).city_name\n",
    "    \n",
    "    # If the city is unique, then add it to a our cities list\n",
    "    if city not in cities:\n",
    "        cities.append(city)\n",
    "\n",
    "# Print the city count to confirm sufficient count\n",
    "len(cities)"
   ]
  },
  {
   "cell_type": "markdown",
   "metadata": {},
   "source": [
    "### Perform API Calls\n",
    "* Perform a weather check on each city using a series of successive API calls.\n",
    "* Include a print log of each city as it'sbeing processed (with the city number and city name).\n"
   ]
  },
  {
   "cell_type": "code",
   "execution_count": 35,
   "metadata": {},
   "outputs": [
    {
     "name": "stdout",
     "output_type": "stream",
     "text": [
      "Processing Record 1 of Set 1 | punta arenas\n",
      "Processing Record 2 of Set 1 | tual\n",
      "Processing Record 3 of Set 1 | busselton\n",
      "City not found. Skipping....\n",
      "Processing Record 5 of Set 1 | saint-marc\n",
      "Processing Record 6 of Set 1 | nouadhibou\n",
      "Processing Record 7 of Set 1 | vaini\n",
      "Processing Record 8 of Set 1 | luderitz\n",
      "City not found. Skipping....\n",
      "Processing Record 10 of Set 1 | saskylakh\n",
      "Processing Record 11 of Set 1 | mataura\n",
      "Processing Record 12 of Set 1 | batticaloa\n",
      "Processing Record 13 of Set 1 | egvekinot\n",
      "Processing Record 14 of Set 1 | kaitangata\n",
      "Processing Record 15 of Set 1 | hermanus\n",
      "Processing Record 16 of Set 1 | hasaki\n",
      "Processing Record 17 of Set 1 | rikitea\n",
      "Processing Record 18 of Set 1 | saint-pierre\n",
      "Processing Record 19 of Set 1 | airai\n",
      "Processing Record 20 of Set 1 | igarka\n",
      "Processing Record 21 of Set 1 | albany\n",
      "Processing Record 22 of Set 1 | bluff\n",
      "Processing Record 23 of Set 1 | mackenzie\n",
      "City not found. Skipping....\n",
      "Processing Record 25 of Set 1 | lukashin\n",
      "Processing Record 26 of Set 1 | cape town\n",
      "City not found. Skipping....\n",
      "Processing Record 28 of Set 1 | saint-philippe\n",
      "Processing Record 29 of Set 1 | alihe\n",
      "Processing Record 30 of Set 1 | east london\n",
      "Processing Record 31 of Set 1 | hobart\n",
      "Processing Record 32 of Set 1 | ribeira grande\n",
      "Processing Record 33 of Set 1 | ushuaia\n",
      "Processing Record 34 of Set 1 | szentlorinc\n",
      "Processing Record 35 of Set 1 | vilhena\n",
      "Processing Record 36 of Set 1 | shuyskoye\n",
      "Processing Record 37 of Set 1 | mwinilunga\n",
      "Processing Record 38 of Set 1 | carnarvon\n",
      "Processing Record 39 of Set 1 | yumen\n",
      "Processing Record 40 of Set 1 | lebu\n",
      "Processing Record 41 of Set 1 | port blair\n",
      "Processing Record 42 of Set 1 | mirabad\n",
      "City not found. Skipping....\n",
      "Processing Record 44 of Set 1 | arraial do cabo\n",
      "Processing Record 45 of Set 1 | scottsbluff\n",
      "Processing Record 46 of Set 1 | sitka\n",
      "City not found. Skipping....\n",
      "Processing Record 48 of Set 1 | georgetown\n",
      "Processing Record 49 of Set 1 | castro\n",
      "Processing Record 50 of Set 1 | vyazemskiy\n",
      "Processing Record 51 of Set 1 | faya\n",
      "Processing Record 52 of Set 1 | yellowknife\n",
      "Processing Record 53 of Set 1 | paamiut\n",
      "Processing Record 54 of Set 1 | aklavik\n",
      "Processing Record 55 of Set 1 | port alfred\n",
      "Processing Record 56 of Set 1 | collie\n",
      "Processing Record 57 of Set 1 | banda aceh\n",
      "Processing Record 58 of Set 1 | jamestown\n",
      "Processing Record 59 of Set 1 | chuy\n",
      "Processing Record 60 of Set 1 | sur\n",
      "City not found. Skipping....\n",
      "Processing Record 62 of Set 1 | nome\n",
      "Processing Record 63 of Set 1 | barrow\n",
      "Processing Record 64 of Set 1 | umba\n",
      "Processing Record 65 of Set 1 | khatanga\n",
      "Processing Record 66 of Set 1 | porbandar\n",
      "Processing Record 67 of Set 1 | ixtapa\n",
      "Processing Record 68 of Set 1 | avarua\n",
      "Processing Record 69 of Set 1 | aykhal\n",
      "Processing Record 70 of Set 1 | nizwa\n",
      "Processing Record 71 of Set 1 | port-gentil\n",
      "Processing Record 72 of Set 1 | atuona\n",
      "Processing Record 73 of Set 1 | tura\n",
      "Processing Record 74 of Set 1 | kolondieba\n",
      "Processing Record 75 of Set 1 | port elizabeth\n",
      "Processing Record 76 of Set 1 | papineauville\n",
      "Processing Record 77 of Set 1 | kudahuvadhoo\n",
      "Processing Record 78 of Set 1 | ullapool\n",
      "Processing Record 79 of Set 1 | cururupu\n",
      "Processing Record 80 of Set 1 | verkhovye\n",
      "Processing Record 81 of Set 1 | cherskiy\n",
      "Processing Record 82 of Set 1 | amberley\n",
      "Processing Record 83 of Set 1 | beloha\n",
      "Processing Record 84 of Set 1 | chokurdakh\n",
      "Processing Record 85 of Set 1 | ancud\n",
      "Processing Record 86 of Set 1 | indramayu\n",
      "Processing Record 87 of Set 1 | altay\n",
      "Processing Record 88 of Set 1 | new norfolk\n",
      "Processing Record 89 of Set 1 | dongying\n",
      "Processing Record 90 of Set 1 | tasiilaq\n",
      "Processing Record 91 of Set 1 | namatanai\n",
      "Processing Record 92 of Set 1 | verkhnevilyuysk\n",
      "Processing Record 93 of Set 1 | vredendal\n",
      "Processing Record 94 of Set 1 | viedma\n",
      "Processing Record 95 of Set 1 | tuktoyaktuk\n",
      "City not found. Skipping....\n",
      "Processing Record 97 of Set 1 | gat\n",
      "Processing Record 98 of Set 1 | caravelas\n",
      "Processing Record 99 of Set 1 | ende\n",
      "Processing Record 100 of Set 1 | qaanaaq\n",
      "Processing Record 101 of Set 1 | monte azul\n",
      "Processing Record 102 of Set 1 | constitucion\n",
      "Processing Record 103 of Set 1 | novoselitskoye\n",
      "Processing Record 104 of Set 1 | antofagasta\n",
      "Processing Record 105 of Set 1 | marathon\n",
      "Processing Record 106 of Set 1 | agde\n",
      "Processing Record 107 of Set 1 | vydrino\n",
      "Processing Record 108 of Set 1 | codrington\n",
      "Processing Record 109 of Set 1 | kongolo\n",
      "Processing Record 110 of Set 1 | kysyl-syr\n",
      "City not found. Skipping....\n",
      "Processing Record 112 of Set 1 | butaritari\n",
      "Processing Record 113 of Set 1 | mar del plata\n",
      "Processing Record 114 of Set 1 | atagay\n",
      "Processing Record 115 of Set 1 | puerto narino\n",
      "Processing Record 116 of Set 1 | conde\n",
      "City not found. Skipping....\n",
      "Processing Record 118 of Set 1 | torbay\n",
      "Processing Record 119 of Set 1 | ahipara\n",
      "Processing Record 120 of Set 1 | ojinaga\n",
      "Processing Record 121 of Set 1 | dhidhdhoo\n",
      "Processing Record 122 of Set 1 | verkhovazhye\n",
      "Processing Record 123 of Set 1 | la ronge\n",
      "Processing Record 124 of Set 1 | pisco\n",
      "Processing Record 125 of Set 1 | ayagoz\n",
      "Processing Record 126 of Set 1 | thompson\n",
      "Processing Record 127 of Set 1 | labuhan\n",
      "Processing Record 128 of Set 1 | pimenteiras\n",
      "Processing Record 129 of Set 1 | arroyo\n",
      "City not found. Skipping....\n",
      "Processing Record 131 of Set 1 | leningradskiy\n",
      "Processing Record 132 of Set 1 | nanortalik\n",
      "Processing Record 133 of Set 1 | casas grandes\n",
      "Processing Record 134 of Set 1 | dawson creek\n",
      "Processing Record 135 of Set 1 | kodiak\n",
      "Processing Record 136 of Set 1 | preobrazheniye\n",
      "Processing Record 137 of Set 1 | gazanjyk\n",
      "Processing Record 138 of Set 1 | santo angelo\n",
      "Processing Record 139 of Set 1 | bethel\n",
      "Processing Record 140 of Set 1 | gamboula\n",
      "City not found. Skipping....\n",
      "Processing Record 142 of Set 1 | mahebourg\n",
      "Processing Record 143 of Set 1 | port moresby\n",
      "City not found. Skipping....\n",
      "Processing Record 145 of Set 1 | mancio lima\n",
      "Processing Record 146 of Set 1 | kapaa\n",
      "Processing Record 147 of Set 1 | matagami\n",
      "Processing Record 148 of Set 1 | luis correia\n",
      "Processing Record 149 of Set 1 | korla\n",
      "Processing Record 150 of Set 1 | taft\n",
      "Processing Record 151 of Set 1 | sucre\n",
      "Processing Record 152 of Set 1 | olinda\n",
      "Processing Record 153 of Set 1 | ponta do sol\n",
      "Processing Record 154 of Set 1 | izumo\n",
      "City not found. Skipping....\n",
      "Processing Record 156 of Set 1 | huzhou\n",
      "Processing Record 157 of Set 1 | victoria\n",
      "Processing Record 158 of Set 1 | banihal\n",
      "Processing Record 159 of Set 1 | bartica\n",
      "Processing Record 160 of Set 1 | bolgatanga\n",
      "Processing Record 161 of Set 1 | piraquara\n",
      "Processing Record 162 of Set 1 | kruisfontein\n",
      "Processing Record 163 of Set 1 | sao filipe\n",
      "Processing Record 164 of Set 1 | grand gaube\n",
      "Processing Record 165 of Set 1 | roma\n",
      "Processing Record 166 of Set 1 | bintulu\n",
      "Processing Record 167 of Set 1 | puerto ayora\n",
      "Processing Record 168 of Set 1 | dikson\n",
      "Processing Record 169 of Set 1 | shetpe\n",
      "Processing Record 170 of Set 1 | hobyo\n",
      "Processing Record 171 of Set 1 | yulara\n",
      "Processing Record 172 of Set 1 | bilibino\n",
      "City not found. Skipping....\n",
      "Processing Record 174 of Set 1 | ekhabi\n",
      "Processing Record 175 of Set 1 | bonavista\n",
      "Processing Record 176 of Set 1 | vestmannaeyjar\n",
      "Processing Record 177 of Set 1 | delta del tigre\n",
      "Processing Record 178 of Set 1 | bredasdorp\n",
      "Processing Record 179 of Set 1 | touros\n",
      "Processing Record 180 of Set 1 | bengkulu\n",
      "Processing Record 181 of Set 1 | hambantota\n",
      "Processing Record 182 of Set 1 | ronde\n",
      "Processing Record 183 of Set 1 | upernavik\n",
      "Processing Record 184 of Set 1 | palmer\n",
      "Processing Record 185 of Set 1 | davenda\n",
      "Processing Record 186 of Set 1 | vostok\n",
      "Processing Record 187 of Set 1 | lazi\n",
      "Processing Record 188 of Set 1 | garibaldi\n",
      "Processing Record 189 of Set 1 | xiongzhou\n",
      "Processing Record 190 of Set 1 | smithers\n",
      "Processing Record 191 of Set 1 | uppsala\n",
      "Processing Record 192 of Set 1 | miraflores\n",
      "Processing Record 193 of Set 1 | buraydah\n",
      "Processing Record 194 of Set 1 | faanui\n",
      "Processing Record 195 of Set 1 | loa janan\n",
      "Processing Record 196 of Set 1 | haines junction\n",
      "Processing Record 197 of Set 1 | bensonville\n",
      "City not found. Skipping....\n",
      "Processing Record 199 of Set 1 | nelson bay\n",
      "Processing Record 200 of Set 1 | tuatapere\n",
      "Processing Record 201 of Set 1 | karasjok\n"
     ]
    },
    {
     "name": "stdout",
     "output_type": "stream",
     "text": [
      "Processing Record 202 of Set 1 | semnan\n",
      "Processing Record 203 of Set 1 | ust-nera\n",
      "Processing Record 204 of Set 1 | port hardy\n",
      "Processing Record 205 of Set 1 | panukulan\n",
      "Processing Record 206 of Set 1 | ulagan\n",
      "Processing Record 207 of Set 1 | bealanana\n",
      "City not found. Skipping....\n",
      "Processing Record 209 of Set 1 | bima\n",
      "Processing Record 210 of Set 1 | dingle\n",
      "Processing Record 211 of Set 1 | turukhansk\n",
      "Processing Record 212 of Set 1 | cabo san lucas\n",
      "Processing Record 213 of Set 1 | clyde river\n",
      "Processing Record 214 of Set 1 | arak\n",
      "Processing Record 215 of Set 1 | pevek\n",
      "Processing Record 216 of Set 1 | alice springs\n",
      "Processing Record 217 of Set 1 | panjab\n",
      "Processing Record 218 of Set 1 | aripuana\n",
      "Processing Record 219 of Set 1 | uruacu\n",
      "Processing Record 220 of Set 1 | cody\n",
      "Processing Record 221 of Set 1 | athabasca\n",
      "Processing Record 222 of Set 1 | derzhavinsk\n",
      "Processing Record 223 of Set 1 | harper\n",
      "Processing Record 224 of Set 1 | colmenar viejo\n",
      "Processing Record 225 of Set 1 | san patricio\n",
      "Processing Record 226 of Set 1 | bubaque\n",
      "Processing Record 227 of Set 1 | turba\n",
      "Processing Record 228 of Set 1 | meulaboh\n",
      "Processing Record 229 of Set 1 | ovsyanka\n",
      "Processing Record 230 of Set 1 | sebinkarahisar\n",
      "City not found. Skipping....\n",
      "Processing Record 232 of Set 1 | kavieng\n",
      "Processing Record 233 of Set 1 | kendari\n",
      "Processing Record 234 of Set 1 | homer\n",
      "Processing Record 235 of Set 1 | nikolskoye\n",
      "Processing Record 236 of Set 1 | tiksi\n",
      "Processing Record 237 of Set 1 | mareeba\n",
      "Processing Record 238 of Set 1 | nichinan\n",
      "Processing Record 239 of Set 1 | cayenne\n",
      "Processing Record 240 of Set 1 | moura\n",
      "Processing Record 241 of Set 1 | esperance\n",
      "City not found. Skipping....\n",
      "Processing Record 243 of Set 1 | yakeshi\n",
      "Processing Record 244 of Set 1 | kiunga\n",
      "Processing Record 245 of Set 1 | jilib\n",
      "Processing Record 246 of Set 1 | nigde\n",
      "Processing Record 247 of Set 1 | hithadhoo\n",
      "Processing Record 248 of Set 1 | makakilo city\n",
      "Processing Record 249 of Set 1 | severo-kurilsk\n",
      "Processing Record 250 of Set 1 | rawson\n",
      "Processing Record 251 of Set 1 | bandarbeyla\n",
      "Processing Record 252 of Set 1 | baglung\n",
      "Processing Record 253 of Set 1 | walvis bay\n",
      "Processing Record 254 of Set 1 | chinhoyi\n",
      "Processing Record 255 of Set 1 | vanavara\n",
      "Processing Record 256 of Set 1 | colares\n",
      "Processing Record 257 of Set 1 | komsomolskiy\n",
      "Processing Record 258 of Set 1 | carepa\n",
      "Processing Record 259 of Set 1 | agidel\n",
      "City not found. Skipping....\n",
      "Processing Record 261 of Set 1 | provideniya\n",
      "Processing Record 262 of Set 1 | haimen\n",
      "Processing Record 263 of Set 1 | skagen\n",
      "Processing Record 264 of Set 1 | qasigiannguit\n",
      "Processing Record 265 of Set 1 | bathsheba\n",
      "Processing Record 266 of Set 1 | ostrovnoy\n",
      "Processing Record 267 of Set 1 | esso\n",
      "City not found. Skipping....\n",
      "Processing Record 269 of Set 1 | lorengau\n",
      "Processing Record 270 of Set 1 | adrar\n",
      "Processing Record 271 of Set 1 | tagusao\n",
      "City not found. Skipping....\n",
      "Processing Record 273 of Set 1 | itarema\n",
      "Processing Record 274 of Set 1 | cancun\n",
      "Processing Record 275 of Set 1 | fairbanks\n",
      "Processing Record 276 of Set 1 | guaymas\n",
      "Processing Record 277 of Set 1 | rocha\n",
      "Processing Record 278 of Set 1 | vancouver\n",
      "Processing Record 279 of Set 1 | kiruna\n",
      "Processing Record 280 of Set 1 | ogaminana\n",
      "Processing Record 281 of Set 1 | kushiro\n",
      "Processing Record 282 of Set 1 | poum\n",
      "Processing Record 283 of Set 1 | saint george\n",
      "Processing Record 284 of Set 1 | mikhaylovskoye\n",
      "Processing Record 285 of Set 1 | kjopsvik\n",
      "Processing Record 286 of Set 1 | ilulissat\n",
      "Processing Record 287 of Set 1 | semey\n",
      "Processing Record 288 of Set 1 | katsuura\n",
      "Processing Record 289 of Set 1 | tautira\n",
      "City not found. Skipping....\n",
      "Processing Record 291 of Set 1 | sokolo\n",
      "Processing Record 292 of Set 1 | pitimbu\n",
      "Processing Record 293 of Set 1 | wattegama\n",
      "Processing Record 294 of Set 1 | san quintin\n",
      "Processing Record 295 of Set 1 | tessalit\n",
      "Processing Record 296 of Set 1 | miri\n",
      "Processing Record 297 of Set 1 | sao joao da barra\n",
      "Processing Record 298 of Set 1 | brigantine\n",
      "Processing Record 299 of Set 1 | fortuna\n",
      "Processing Record 300 of Set 1 | porto murtinho\n",
      "Processing Record 301 of Set 1 | staryy nadym\n",
      "Processing Record 302 of Set 1 | san cristobal\n",
      "Processing Record 303 of Set 1 | pergamino\n",
      "Processing Record 304 of Set 1 | hovd\n",
      "Processing Record 305 of Set 1 | whitianga\n",
      "Processing Record 306 of Set 1 | honningsvag\n",
      "City not found. Skipping....\n",
      "Processing Record 308 of Set 1 | talnakh\n",
      "Processing Record 309 of Set 1 | black diamond\n",
      "Processing Record 310 of Set 1 | guarapari\n",
      "Processing Record 311 of Set 1 | deputatskiy\n",
      "Processing Record 312 of Set 1 | marsa matruh\n",
      "Processing Record 313 of Set 1 | binga\n",
      "Processing Record 314 of Set 1 | pemangkat\n",
      "Processing Record 315 of Set 1 | dunedin\n",
      "Processing Record 316 of Set 1 | cidreira\n",
      "Processing Record 317 of Set 1 | wanaka\n",
      "Processing Record 318 of Set 1 | guerrero negro\n",
      "Processing Record 319 of Set 1 | lappeenranta\n",
      "Processing Record 320 of Set 1 | ponta delgada\n",
      "Processing Record 321 of Set 1 | desbiens\n",
      "City not found. Skipping....\n",
      "Processing Record 323 of Set 1 | besikduzu\n",
      "Processing Record 324 of Set 1 | zhanakorgan\n",
      "City not found. Skipping....\n",
      "Processing Record 326 of Set 1 | daru\n",
      "Processing Record 327 of Set 1 | kamaishi\n",
      "Processing Record 328 of Set 1 | troitsko-pechorsk\n",
      "Processing Record 329 of Set 1 | husavik\n",
      "Processing Record 330 of Set 1 | zalantun\n",
      "Processing Record 331 of Set 1 | santa rosa\n",
      "Processing Record 332 of Set 1 | natalio\n",
      "Processing Record 333 of Set 1 | sola\n",
      "Processing Record 334 of Set 1 | nandgaon\n",
      "Processing Record 335 of Set 1 | bull savanna\n",
      "Processing Record 336 of Set 1 | nishihara\n",
      "Processing Record 337 of Set 1 | penzance\n",
      "Processing Record 338 of Set 1 | port augusta\n",
      "Processing Record 339 of Set 1 | petropavlovsk-kamchatskiy\n",
      "Processing Record 340 of Set 1 | yabrud\n",
      "Processing Record 341 of Set 1 | vila velha\n",
      "Processing Record 342 of Set 1 | yar-sale\n",
      "Processing Record 343 of Set 1 | mudanjiang\n",
      "Processing Record 344 of Set 1 | fernie\n",
      "Processing Record 345 of Set 1 | tupiza\n",
      "Processing Record 346 of Set 1 | iqaluit\n",
      "Processing Record 347 of Set 1 | erzin\n",
      "Processing Record 348 of Set 1 | amantea\n",
      "Processing Record 349 of Set 1 | nadym\n",
      "Processing Record 350 of Set 1 | susanville\n",
      "Processing Record 351 of Set 1 | glendive\n",
      "Processing Record 352 of Set 1 | boma\n",
      "Processing Record 353 of Set 1 | antiguo morelos\n",
      "Processing Record 354 of Set 1 | ndele\n",
      "Processing Record 355 of Set 1 | charlestown\n",
      "Processing Record 356 of Set 1 | bilma\n",
      "City not found. Skipping....\n",
      "Processing Record 358 of Set 1 | shimoda\n",
      "Processing Record 359 of Set 1 | lesnoy\n",
      "Processing Record 360 of Set 1 | chapais\n",
      "Processing Record 361 of Set 1 | griffith\n",
      "Processing Record 362 of Set 1 | kimbe\n",
      "Processing Record 363 of Set 1 | ocos\n",
      "Processing Record 364 of Set 1 | yeniseysk\n",
      "City not found. Skipping....\n",
      "Processing Record 366 of Set 1 | warmbad\n",
      "Processing Record 367 of Set 1 | goderich\n",
      "Processing Record 368 of Set 1 | la asuncion\n",
      "Processing Record 369 of Set 1 | tilichiki\n",
      "Processing Record 370 of Set 1 | maniitsoq\n",
      "Processing Record 371 of Set 1 | karratha\n",
      "Processing Record 372 of Set 1 | azare\n",
      "Processing Record 373 of Set 1 | jimenez\n",
      "Processing Record 374 of Set 1 | arawa\n",
      "Processing Record 375 of Set 1 | hilo\n",
      "Processing Record 376 of Set 1 | ebbs\n",
      "Processing Record 377 of Set 1 | champerico\n",
      "Processing Record 378 of Set 1 | henties bay\n",
      "Processing Record 379 of Set 1 | la libertad\n",
      "Processing Record 380 of Set 1 | cotonou\n",
      "Processing Record 381 of Set 1 | salalah\n",
      "Processing Record 382 of Set 1 | sicuani\n",
      "Processing Record 383 of Set 1 | black river\n",
      "Processing Record 384 of Set 1 | grindavik\n",
      "Processing Record 385 of Set 1 | inirida\n",
      "Processing Record 386 of Set 1 | brownsville\n",
      "Processing Record 387 of Set 1 | limbang\n",
      "Processing Record 388 of Set 1 | mokhsogollokh\n",
      "Processing Record 389 of Set 1 | rundu\n",
      "Processing Record 390 of Set 1 | njombe\n",
      "Processing Record 391 of Set 1 | lufilufi\n",
      "Processing Record 392 of Set 1 | khani\n",
      "Processing Record 393 of Set 1 | vila franca do campo\n",
      "Processing Record 394 of Set 1 | acajutla\n",
      "Processing Record 395 of Set 1 | namsos\n",
      "Processing Record 396 of Set 1 | mao\n",
      "Processing Record 397 of Set 1 | namtsy\n",
      "Processing Record 398 of Set 1 | pangai\n",
      "Processing Record 399 of Set 1 | okhotsk\n",
      "City not found. Skipping....\n",
      "Processing Record 401 of Set 1 | lingao\n"
     ]
    },
    {
     "name": "stdout",
     "output_type": "stream",
     "text": [
      "Processing Record 402 of Set 1 | yanam\n",
      "Processing Record 403 of Set 1 | saint-joseph\n",
      "Processing Record 404 of Set 1 | kashan\n",
      "Processing Record 405 of Set 1 | namibe\n",
      "Processing Record 406 of Set 1 | revda\n",
      "Processing Record 407 of Set 1 | morondava\n",
      "Processing Record 408 of Set 1 | springbok\n",
      "Processing Record 409 of Set 1 | moranbah\n",
      "Processing Record 410 of Set 1 | te anau\n",
      "Processing Record 411 of Set 1 | dukat\n",
      "Processing Record 412 of Set 1 | broken hill\n",
      "Processing Record 413 of Set 1 | menomonie\n",
      "Processing Record 414 of Set 1 | prince rupert\n",
      "Processing Record 415 of Set 1 | lamballe\n",
      "Processing Record 416 of Set 1 | oeiras do para\n",
      "Processing Record 417 of Set 1 | libenge\n",
      "Processing Record 418 of Set 1 | coahuayana\n",
      "Processing Record 419 of Set 1 | narrabri\n",
      "Processing Record 420 of Set 1 | nhulunbuy\n",
      "Processing Record 421 of Set 1 | tigzirt\n",
      "Processing Record 422 of Set 1 | belaya gora\n",
      "Processing Record 423 of Set 1 | pacific grove\n",
      "Processing Record 424 of Set 1 | amahai\n",
      "Processing Record 425 of Set 1 | muros\n",
      "Processing Record 426 of Set 1 | jumla\n",
      "Processing Record 427 of Set 1 | diffa\n",
      "Processing Record 428 of Set 1 | isangel\n",
      "Processing Record 429 of Set 1 | sandy bay\n",
      "Processing Record 430 of Set 1 | terrace\n",
      "Processing Record 431 of Set 1 | luwero\n",
      "City not found. Skipping....\n",
      "Processing Record 433 of Set 1 | kargasok\n",
      "Processing Record 434 of Set 1 | pasni\n",
      "Processing Record 435 of Set 1 | lompoc\n",
      "Processing Record 436 of Set 1 | usinsk\n",
      "Processing Record 437 of Set 1 | roald\n",
      "Processing Record 438 of Set 1 | klaksvik\n",
      "Processing Record 439 of Set 1 | sangar\n",
      "Processing Record 440 of Set 1 | naze\n",
      "Processing Record 441 of Set 1 | ulladulla\n",
      "Processing Record 442 of Set 1 | ewa beach\n",
      "Processing Record 443 of Set 1 | minab\n",
      "Processing Record 444 of Set 1 | tallahassee\n",
      "Processing Record 445 of Set 1 | taoudenni\n",
      "Processing Record 446 of Set 1 | quatre cocos\n",
      "Processing Record 447 of Set 1 | san pedro de macoris\n",
      "City not found. Skipping....\n",
      "Processing Record 449 of Set 1 | maningrida\n",
      "Processing Record 450 of Set 1 | greytown\n",
      "City not found. Skipping....\n",
      "Processing Record 452 of Set 1 | flagstaff\n",
      "Processing Record 453 of Set 1 | upington\n",
      "Processing Record 454 of Set 1 | portland\n",
      "Processing Record 455 of Set 1 | marzuq\n",
      "Processing Record 456 of Set 1 | tahe\n",
      "Processing Record 457 of Set 1 | haputale\n",
      "Processing Record 458 of Set 1 | ukiah\n",
      "Processing Record 459 of Set 1 | soure\n",
      "Processing Record 460 of Set 1 | isabela\n",
      "Processing Record 461 of Set 1 | peniche\n",
      "Processing Record 462 of Set 1 | linqu\n",
      "Processing Record 463 of Set 1 | seaford\n",
      "Processing Record 464 of Set 1 | severo-yeniseyskiy\n",
      "Processing Record 465 of Set 1 | pangnirtung\n",
      "Processing Record 466 of Set 1 | amapa\n",
      "City not found. Skipping....\n",
      "Processing Record 468 of Set 1 | esna\n",
      "Processing Record 469 of Set 1 | saint-louis\n",
      "Processing Record 470 of Set 1 | kieta\n",
      "Processing Record 471 of Set 1 | belmonte\n",
      "Processing Record 472 of Set 1 | brae\n",
      "Processing Record 473 of Set 1 | palmaner\n",
      "Processing Record 474 of Set 1 | magistralnyy\n",
      "Processing Record 475 of Set 1 | baykit\n",
      "Processing Record 476 of Set 1 | acapulco\n",
      "Processing Record 477 of Set 1 | praia da vitoria\n",
      "Processing Record 478 of Set 1 | guanare\n",
      "Processing Record 479 of Set 1 | havre-saint-pierre\n",
      "Processing Record 480 of Set 1 | road town\n",
      "Processing Record 481 of Set 1 | canarana\n",
      "Processing Record 482 of Set 1 | raga\n",
      "Processing Record 483 of Set 1 | madang\n",
      "City not found. Skipping....\n",
      "Processing Record 485 of Set 1 | bambous virieux\n",
      "Processing Record 486 of Set 1 | lavrentiya\n",
      "Processing Record 487 of Set 1 | san vicente\n",
      "Processing Record 488 of Set 1 | buinsk\n",
      "Processing Record 489 of Set 1 | zhigansk\n",
      "Processing Record 490 of Set 1 | mackay\n",
      "Processing Record 491 of Set 1 | uchiza\n",
      "Processing Record 492 of Set 1 | alofi\n",
      "Processing Record 493 of Set 1 | kodinsk\n",
      "Processing Record 494 of Set 1 | nador\n",
      "Processing Record 495 of Set 1 | amga\n",
      "Processing Record 496 of Set 1 | maceio\n",
      "Processing Record 497 of Set 1 | ust-kuyga\n",
      "Processing Record 498 of Set 1 | broome\n",
      "Processing Record 499 of Set 1 | lovozero\n",
      "Processing Record 500 of Set 1 | nyurba\n",
      "Processing Record 501 of Set 1 | avera\n",
      "City not found. Skipping....\n",
      "Processing Record 503 of Set 1 | iskateley\n",
      "Processing Record 504 of Set 1 | lasa\n",
      "Processing Record 505 of Set 1 | trincomalee\n",
      "Processing Record 506 of Set 1 | veraval\n",
      "Processing Record 507 of Set 1 | quesnel\n",
      "Processing Record 508 of Set 1 | ugoofaaru\n",
      "Processing Record 509 of Set 1 | maarianhamina\n",
      "Processing Record 510 of Set 1 | ambalema\n",
      "Processing Record 511 of Set 1 | zhangye\n",
      "Processing Record 512 of Set 1 | snezhnogorsk\n",
      "City not found. Skipping....\n",
      "Processing Record 514 of Set 1 | lannion\n",
      "City not found. Skipping....\n",
      "City not found. Skipping....\n",
      "Processing Record 517 of Set 1 | la palma\n",
      "Processing Record 518 of Set 1 | souillac\n",
      "Processing Record 519 of Set 1 | miyako\n",
      "City not found. Skipping....\n",
      "Processing Record 521 of Set 1 | mattru\n",
      "Processing Record 522 of Set 1 | summerside\n",
      "Processing Record 523 of Set 1 | malanje\n",
      "Processing Record 524 of Set 1 | lincoln\n",
      "Processing Record 525 of Set 1 | northam\n",
      "Processing Record 526 of Set 1 | umm kaddadah\n",
      "City not found. Skipping....\n",
      "Processing Record 528 of Set 1 | borovoy\n",
      "Processing Record 529 of Set 1 | kuytun\n",
      "Processing Record 530 of Set 1 | lagoa\n",
      "Processing Record 531 of Set 1 | stalybridge\n",
      "Processing Record 532 of Set 1 | chiredzi\n",
      "Processing Record 533 of Set 1 | yaan\n",
      "Processing Record 534 of Set 1 | the valley\n",
      "City not found. Skipping....\n",
      "Processing Record 536 of Set 1 | rantauprapat\n",
      "Processing Record 537 of Set 1 | cap malheureux\n",
      "Processing Record 538 of Set 1 | mezen\n",
      "Processing Record 539 of Set 1 | ta khmau\n",
      "Processing Record 540 of Set 1 | bereda\n",
      "Processing Record 541 of Set 1 | oktyabrskoye\n",
      "Processing Record 542 of Set 1 | ranau\n",
      "Processing Record 543 of Set 1 | green river\n",
      "City not found. Skipping....\n",
      "Processing Record 545 of Set 1 | saldanha\n",
      "Processing Record 546 of Set 1 | kaoma\n",
      "Processing Record 547 of Set 1 | nikolayevka\n",
      "Processing Record 548 of Set 1 | kuvandyk\n",
      "Processing Record 549 of Set 1 | byron bay\n",
      "Processing Record 550 of Set 1 | ardakan\n",
      "Processing Record 551 of Set 1 | uvalde\n",
      "City not found. Skipping....\n",
      "Processing Record 553 of Set 1 | sibolga\n",
      "Processing Record 554 of Set 1 | gayny\n",
      "Processing Record 555 of Set 1 | college\n",
      "Processing Record 556 of Set 1 | kondagaon\n",
      "Processing Record 557 of Set 1 | hays\n",
      "Processing Record 558 of Set 1 | sovetskiy\n",
      "Processing Record 559 of Set 1 | hualmay\n",
      "Processing Record 560 of Set 1 | fuzhou\n",
      "Processing Record 561 of Set 1 | yerbogachen\n",
      "Processing Record 562 of Set 1 | panevezys\n",
      "Processing Record 563 of Set 1 | inhambane\n",
      "Processing Record 564 of Set 1 | adiake\n",
      "Processing Record 565 of Set 1 | vardo\n",
      "Processing Record 566 of Set 1 | bonthe\n",
      "Processing Record 567 of Set 1 | mount isa\n",
      "Processing Record 568 of Set 1 | galveston\n",
      "Processing Record 569 of Set 1 | sidi ali\n",
      "City not found. Skipping....\n",
      "Processing Record 571 of Set 1 | samarai\n",
      "Processing Record 572 of Set 1 | ipoh\n",
      "Processing Record 573 of Set 1 | iberia\n",
      "Processing Record 574 of Set 1 | polonnaruwa\n",
      "Processing Record 575 of Set 1 | umea\n",
      "Processing Record 576 of Set 1 | orlik\n",
      "Processing Record 577 of Set 1 | zyryanka\n",
      "Processing Record 578 of Set 1 | kirakira\n",
      "Processing Record 579 of Set 1 | fort-shevchenko\n",
      "Processing Record 580 of Set 1 | harindanga\n",
      "Processing Record 581 of Set 1 | jinsha\n",
      "Processing Record 582 of Set 1 | kelo\n",
      "Processing Record 583 of Set 1 | camana\n",
      "Processing Record 584 of Set 1 | sechura\n",
      "Processing Record 585 of Set 1 | biskamzha\n",
      "Processing Record 586 of Set 1 | north mankato\n",
      "Processing Record 587 of Set 1 | puerto ayacucho\n",
      "Processing Record 588 of Set 1 | dickinson\n",
      "Processing Record 589 of Set 1 | liwonde\n",
      "Processing Record 590 of Set 1 | port macquarie\n",
      "Processing Record 591 of Set 1 | bagdarin\n",
      "Processing Record 592 of Set 1 | sungairaya\n",
      "Processing Record 593 of Set 1 | kaberamaido\n",
      "Processing Record 594 of Set 1 | zlotow\n",
      "City not found. Skipping....\n",
      "Processing Record 596 of Set 1 | norman wells\n",
      "Processing Record 597 of Set 1 | wakkanai\n",
      "Processing Record 598 of Set 1 | margherita\n",
      "Processing Record 599 of Set 1 | abalak\n",
      "Processing Record 600 of Set 1 | barabinsk\n",
      "Processing Record 601 of Set 1 | maku\n",
      "Processing Record 602 of Set 1 | superior\n"
     ]
    },
    {
     "name": "stdout",
     "output_type": "stream",
     "text": [
      "Processing Record 603 of Set 1 | silver city\n",
      "Processing Record 604 of Set 1 | gavle\n",
      "Processing Record 605 of Set 1 | tonj\n",
      "City not found. Skipping....\n",
      "Processing Record 607 of Set 1 | dasoguz\n",
      "Processing Record 608 of Set 1 | oudtshoorn\n",
      "Processing Record 609 of Set 1 | los llanos de aridane\n",
      "Processing Record 610 of Set 1 | balkanabat\n",
      "Processing Record 611 of Set 1 | stornoway\n",
      "Processing Record 612 of Set 1 | liberal\n",
      "Processing Record 613 of Set 1 | mandera\n",
      "Processing Record 614 of Set 1 | hervey bay\n",
      "Processing Record 615 of Set 1 | dongsheng\n",
      "Processing Record 616 of Set 1 | pointe michel\n",
      "Processing Record 617 of Set 1 | farafangana\n",
      "City not found. Skipping....\n",
      "Processing Record 619 of Set 1 | waverley\n",
      "Processing Record 620 of Set 1 | wageningen\n",
      "Processing Record 621 of Set 1 | atherton\n",
      "Processing Record 622 of Set 1 | tianpeng\n",
      "Processing Record 623 of Set 1 | manicore\n",
      "Processing Record 624 of Set 1 | copiapo\n",
      "Processing Record 625 of Set 1 | geraldton\n",
      "Processing Record 626 of Set 1 | berdigestyakh\n",
      "Processing Record 627 of Set 1 | pont-rouge\n",
      "Processing Record 628 of Set 1 | mokshan\n",
      "Processing Record 629 of Set 1 | hay river\n",
      "Processing Record 630 of Set 1 | narsaq\n",
      "Processing Record 631 of Set 1 | novyy urengoy\n",
      "Processing Record 632 of Set 1 | cortland\n"
     ]
    }
   ],
   "source": [
    "# Save config information.\n",
    "url = \"http://api.openweathermap.org/data/2.5/weather?\"\n",
    "units = \"metric\"\n",
    "\n",
    "# Build partial query URL\n",
    "query_url = f\"{url}appid={weather_api_key}&units={units}&q=\"\n",
    "\n",
    "#Variables to save while performing a weather check\n",
    "lats = []\n",
    "longs = []\n",
    "max_temp = []\n",
    "humid = []\n",
    "cloud = []\n",
    "wind_speed = []\n",
    "countries = []\n",
    "dates = []\n",
    "found_cities = []\n",
    "cycle_count = 1\n",
    "\n",
    "# Loop through cities and add the json values to the lists\n",
    "for x in cities:\n",
    "    #Using try, append the values if no errors\n",
    "    try:\n",
    "        #Store the values for the cities that have been found\n",
    "        response = requests.get(query_url + x).json()\n",
    "        lats.append(response['coord']['lat'])\n",
    "        longs.append(response['coord']['lat'])\n",
    "        max_temp.append(response['main']['temp_max'])\n",
    "        humid.append(response['main']['humidity'])\n",
    "        cloud.append(response['clouds']['all'])\n",
    "        wind_speed.append(response['wind']['speed'])\n",
    "        countries.append(response['sys']['country'])\n",
    "        dates.append(response['dt'])\n",
    "        found_cities.append(x)\n",
    "        \n",
    "        #Print a statement showing the search is successful\n",
    "        print(f\"Processing Record {cycle_count} of Set 1 | {x}\")\n",
    "    \n",
    "    except:\n",
    "        #If an error has been encountered \n",
    "        print(\"City not found. Skipping....\")\n",
    "        \n",
    "    #Keep track of the cycle count\n",
    "    cycle_count = cycle_count + 1\n"
   ]
  },
  {
   "cell_type": "markdown",
   "metadata": {},
   "source": [
    "### Convert Raw Data to DataFrame\n",
    "* Export the city data into a .csv.\n",
    "* Display the DataFrame"
   ]
  },
  {
   "cell_type": "code",
   "execution_count": 36,
   "metadata": {},
   "outputs": [
    {
     "data": {
      "text/html": [
       "<div>\n",
       "<style scoped>\n",
       "    .dataframe tbody tr th:only-of-type {\n",
       "        vertical-align: middle;\n",
       "    }\n",
       "\n",
       "    .dataframe tbody tr th {\n",
       "        vertical-align: top;\n",
       "    }\n",
       "\n",
       "    .dataframe thead th {\n",
       "        text-align: right;\n",
       "    }\n",
       "</style>\n",
       "<table border=\"1\" class=\"dataframe\">\n",
       "  <thead>\n",
       "    <tr style=\"text-align: right;\">\n",
       "      <th></th>\n",
       "      <th>City</th>\n",
       "      <th>Lat</th>\n",
       "      <th>Lng</th>\n",
       "      <th>Max Temp</th>\n",
       "      <th>Humidity</th>\n",
       "      <th>Cloudiness</th>\n",
       "      <th>Wind Speed</th>\n",
       "      <th>Country</th>\n",
       "      <th>Date</th>\n",
       "    </tr>\n",
       "  </thead>\n",
       "  <tbody>\n",
       "    <tr>\n",
       "      <th>0</th>\n",
       "      <td>punta arenas</td>\n",
       "      <td>-53.15</td>\n",
       "      <td>-53.15</td>\n",
       "      <td>7.00</td>\n",
       "      <td>70</td>\n",
       "      <td>100</td>\n",
       "      <td>13.90</td>\n",
       "      <td>CL</td>\n",
       "      <td>1608182132</td>\n",
       "    </tr>\n",
       "    <tr>\n",
       "      <th>1</th>\n",
       "      <td>tual</td>\n",
       "      <td>-5.67</td>\n",
       "      <td>-5.67</td>\n",
       "      <td>29.77</td>\n",
       "      <td>76</td>\n",
       "      <td>56</td>\n",
       "      <td>8.75</td>\n",
       "      <td>ID</td>\n",
       "      <td>1608182132</td>\n",
       "    </tr>\n",
       "    <tr>\n",
       "      <th>2</th>\n",
       "      <td>busselton</td>\n",
       "      <td>-33.65</td>\n",
       "      <td>-33.65</td>\n",
       "      <td>24.44</td>\n",
       "      <td>42</td>\n",
       "      <td>0</td>\n",
       "      <td>1.34</td>\n",
       "      <td>AU</td>\n",
       "      <td>1608182132</td>\n",
       "    </tr>\n",
       "    <tr>\n",
       "      <th>3</th>\n",
       "      <td>saint-marc</td>\n",
       "      <td>19.11</td>\n",
       "      <td>19.11</td>\n",
       "      <td>23.54</td>\n",
       "      <td>70</td>\n",
       "      <td>16</td>\n",
       "      <td>2.39</td>\n",
       "      <td>HT</td>\n",
       "      <td>1608182132</td>\n",
       "    </tr>\n",
       "    <tr>\n",
       "      <th>4</th>\n",
       "      <td>nouadhibou</td>\n",
       "      <td>20.93</td>\n",
       "      <td>20.93</td>\n",
       "      <td>17.00</td>\n",
       "      <td>77</td>\n",
       "      <td>0</td>\n",
       "      <td>12.30</td>\n",
       "      <td>MR</td>\n",
       "      <td>1608182132</td>\n",
       "    </tr>\n",
       "  </tbody>\n",
       "</table>\n",
       "</div>"
      ],
      "text/plain": [
       "           City    Lat    Lng  Max Temp  Humidity  Cloudiness  Wind Speed  \\\n",
       "0  punta arenas -53.15 -53.15      7.00        70         100       13.90   \n",
       "1          tual  -5.67  -5.67     29.77        76          56        8.75   \n",
       "2     busselton -33.65 -33.65     24.44        42           0        1.34   \n",
       "3    saint-marc  19.11  19.11     23.54        70          16        2.39   \n",
       "4    nouadhibou  20.93  20.93     17.00        77           0       12.30   \n",
       "\n",
       "  Country        Date  \n",
       "0      CL  1608182132  \n",
       "1      ID  1608182132  \n",
       "2      AU  1608182132  \n",
       "3      HT  1608182132  \n",
       "4      MR  1608182132  "
      ]
     },
     "execution_count": 36,
     "metadata": {},
     "output_type": "execute_result"
    }
   ],
   "source": [
    "#Create a dataframe from the gathered data\n",
    "weather_df = pd.DataFrame({\n",
    "    \"City\": found_cities,\n",
    "    \"Lat\": lats,\n",
    "    \"Lng\": longs,\n",
    "    \"Max Temp\": max_temp,\n",
    "    \"Humidity\": humid,\n",
    "    \"Cloudiness\": cloud,\n",
    "    \"Wind Speed\": wind_speed,\n",
    "    \"Country\": countries,\n",
    "    \"Date\": dates\n",
    "})\n",
    "\n",
    "weather_df.head()"
   ]
  },
  {
   "cell_type": "code",
   "execution_count": 37,
   "metadata": {},
   "outputs": [
    {
     "data": {
      "text/html": [
       "<div>\n",
       "<style scoped>\n",
       "    .dataframe tbody tr th:only-of-type {\n",
       "        vertical-align: middle;\n",
       "    }\n",
       "\n",
       "    .dataframe tbody tr th {\n",
       "        vertical-align: top;\n",
       "    }\n",
       "\n",
       "    .dataframe thead th {\n",
       "        text-align: right;\n",
       "    }\n",
       "</style>\n",
       "<table border=\"1\" class=\"dataframe\">\n",
       "  <thead>\n",
       "    <tr style=\"text-align: right;\">\n",
       "      <th></th>\n",
       "      <th>Lat</th>\n",
       "      <th>Lng</th>\n",
       "      <th>Max Temp</th>\n",
       "      <th>Humidity</th>\n",
       "      <th>Cloudiness</th>\n",
       "      <th>Wind Speed</th>\n",
       "      <th>Date</th>\n",
       "    </tr>\n",
       "  </thead>\n",
       "  <tbody>\n",
       "    <tr>\n",
       "      <th>count</th>\n",
       "      <td>585.000000</td>\n",
       "      <td>585.000000</td>\n",
       "      <td>585.000000</td>\n",
       "      <td>585.000000</td>\n",
       "      <td>585.000000</td>\n",
       "      <td>585.000000</td>\n",
       "      <td>5.850000e+02</td>\n",
       "    </tr>\n",
       "    <tr>\n",
       "      <th>mean</th>\n",
       "      <td>21.776222</td>\n",
       "      <td>21.776222</td>\n",
       "      <td>8.864034</td>\n",
       "      <td>75.964103</td>\n",
       "      <td>55.193162</td>\n",
       "      <td>3.497197</td>\n",
       "      <td>1.608182e+09</td>\n",
       "    </tr>\n",
       "    <tr>\n",
       "      <th>std</th>\n",
       "      <td>33.411923</td>\n",
       "      <td>33.411923</td>\n",
       "      <td>17.727510</td>\n",
       "      <td>18.840092</td>\n",
       "      <td>39.189109</td>\n",
       "      <td>2.487563</td>\n",
       "      <td>1.196376e+02</td>\n",
       "    </tr>\n",
       "    <tr>\n",
       "      <th>min</th>\n",
       "      <td>-54.800000</td>\n",
       "      <td>-54.800000</td>\n",
       "      <td>-44.000000</td>\n",
       "      <td>1.000000</td>\n",
       "      <td>0.000000</td>\n",
       "      <td>0.130000</td>\n",
       "      <td>1.608182e+09</td>\n",
       "    </tr>\n",
       "    <tr>\n",
       "      <th>25%</th>\n",
       "      <td>-6.210000</td>\n",
       "      <td>-6.210000</td>\n",
       "      <td>-3.070000</td>\n",
       "      <td>68.000000</td>\n",
       "      <td>13.000000</td>\n",
       "      <td>1.780000</td>\n",
       "      <td>1.608182e+09</td>\n",
       "    </tr>\n",
       "    <tr>\n",
       "      <th>50%</th>\n",
       "      <td>27.280000</td>\n",
       "      <td>27.280000</td>\n",
       "      <td>13.810000</td>\n",
       "      <td>81.000000</td>\n",
       "      <td>69.000000</td>\n",
       "      <td>2.750000</td>\n",
       "      <td>1.608182e+09</td>\n",
       "    </tr>\n",
       "    <tr>\n",
       "      <th>75%</th>\n",
       "      <td>50.700000</td>\n",
       "      <td>50.700000</td>\n",
       "      <td>23.260000</td>\n",
       "      <td>89.000000</td>\n",
       "      <td>93.000000</td>\n",
       "      <td>4.680000</td>\n",
       "      <td>1.608182e+09</td>\n",
       "    </tr>\n",
       "    <tr>\n",
       "      <th>max</th>\n",
       "      <td>77.480000</td>\n",
       "      <td>77.480000</td>\n",
       "      <td>40.000000</td>\n",
       "      <td>100.000000</td>\n",
       "      <td>100.000000</td>\n",
       "      <td>15.900000</td>\n",
       "      <td>1.608182e+09</td>\n",
       "    </tr>\n",
       "  </tbody>\n",
       "</table>\n",
       "</div>"
      ],
      "text/plain": [
       "              Lat         Lng    Max Temp    Humidity  Cloudiness  Wind Speed  \\\n",
       "count  585.000000  585.000000  585.000000  585.000000  585.000000  585.000000   \n",
       "mean    21.776222   21.776222    8.864034   75.964103   55.193162    3.497197   \n",
       "std     33.411923   33.411923   17.727510   18.840092   39.189109    2.487563   \n",
       "min    -54.800000  -54.800000  -44.000000    1.000000    0.000000    0.130000   \n",
       "25%     -6.210000   -6.210000   -3.070000   68.000000   13.000000    1.780000   \n",
       "50%     27.280000   27.280000   13.810000   81.000000   69.000000    2.750000   \n",
       "75%     50.700000   50.700000   23.260000   89.000000   93.000000    4.680000   \n",
       "max     77.480000   77.480000   40.000000  100.000000  100.000000   15.900000   \n",
       "\n",
       "               Date  \n",
       "count  5.850000e+02  \n",
       "mean   1.608182e+09  \n",
       "std    1.196376e+02  \n",
       "min    1.608182e+09  \n",
       "25%    1.608182e+09  \n",
       "50%    1.608182e+09  \n",
       "75%    1.608182e+09  \n",
       "max    1.608182e+09  "
      ]
     },
     "execution_count": 37,
     "metadata": {},
     "output_type": "execute_result"
    }
   ],
   "source": [
    "weather_df.describe()"
   ]
  },
  {
   "cell_type": "markdown",
   "metadata": {},
   "source": [
    "## Inspect the data and remove the cities where the humidity > 100%.\n",
    "----\n",
    "Skip this step if there are no cities that have humidity > 100%. "
   ]
  },
  {
   "cell_type": "code",
   "execution_count": 39,
   "metadata": {},
   "outputs": [],
   "source": [
    "#Since the max of Humidity is 100, there are no cities with humidity greater than 100"
   ]
  },
  {
   "cell_type": "markdown",
   "metadata": {},
   "source": [
    "## Plotting the Data\n",
    "* Use proper labeling of the plots using plot titles (including date of analysis) and axes labels.\n",
    "* Save the plotted figures as .pngs."
   ]
  },
  {
   "cell_type": "markdown",
   "metadata": {},
   "source": [
    "## Latitude vs. Temperature Plot"
   ]
  },
  {
   "cell_type": "code",
   "execution_count": 53,
   "metadata": {},
   "outputs": [
    {
     "data": {
      "image/png": "[encoded data removed]",
      "text/plain": [
       "<Figure size 432x288 with 1 Axes>"
      ]
     },
     "metadata": {
      "needs_background": "light"
     },
     "output_type": "display_data"
    }
   ],
   "source": [
    "#Create a scatter plot for city latitude vs. max temperature\n",
    "plt.scatter(weather_df['Lat'], weather_df['Max Temp'], color='Blue', marker='o')\n",
    "plt.xlabel('Latitude')\n",
    "plt.ylabel('Max Temperature (C)')\n",
    "plt.title('City Latitude vs. Max Temperature')\n",
    "plt.grid()\n",
    "plt.show()"
   ]
  },
  {
   "cell_type": "markdown",
   "metadata": {},
   "source": [
    "## Latitude vs. Humidity Plot"
   ]
  },
  {
   "cell_type": "code",
   "execution_count": 55,
   "metadata": {},
   "outputs": [
    {
     "data": {
      "image/png": "[encoded data removed]",
      "text/plain": [
       "<Figure size 432x288 with 1 Axes>"
      ]
     },
     "metadata": {
      "needs_background": "light"
     },
     "output_type": "display_data"
    }
   ],
   "source": [
    "#Create a scatter plot for city latitude vs. humidity\n",
    "plt.scatter(weather_df['Lat'], weather_df['Humidity'], color='Blue', marker='o')\n",
    "plt.xlabel('Latitude')\n",
    "plt.ylabel('Humidity %')\n",
    "plt.title('City Latitude vs. Humidity')\n",
    "plt.grid()\n",
    "plt.show()"
   ]
  },
  {
   "cell_type": "markdown",
   "metadata": {},
   "source": [
    "## Latitude vs. Cloudiness Plot"
   ]
  },
  {
   "cell_type": "code",
   "execution_count": 56,
   "metadata": {},
   "outputs": [
    {
     "data": {
      "image/png": "[encoded data removed]",
      "text/plain": [
       "<Figure size 432x288 with 1 Axes>"
      ]
     },
     "metadata": {
      "needs_background": "light"
     },
     "output_type": "display_data"
    }
   ],
   "source": [
    "#Create a scatter plot for city latitude vs. Cloudiness\n",
    "plt.scatter(weather_df['Lat'], weather_df['Cloudiness'], color='Blue', marker='o')\n",
    "plt.xlabel('Latitude')\n",
    "plt.ylabel('Cloudiness %')\n",
    "plt.title('City Latitude vs. Cloudiness')\n",
    "plt.grid()\n",
    "plt.show()"
   ]
  },
  {
   "cell_type": "markdown",
   "metadata": {},
   "source": [
    "## Latitude vs. Wind Speed Plot"
   ]
  },
  {
   "cell_type": "code",
   "execution_count": 58,
   "metadata": {},
   "outputs": [
    {
     "data": {
      "image/png": "[encoded data removed]",
      "text/plain": [
       "<Figure size 432x288 with 1 Axes>"
      ]
     },
     "metadata": {
      "needs_background": "light"
     },
     "output_type": "display_data"
    }
   ],
   "source": [
    "#Create a scatter plot for city latitude vs. wind speed\n",
    "plt.scatter(weather_df['Lat'], weather_df['Wind Speed'], color='Blue', marker='o')\n",
    "plt.xlabel('Latitude')\n",
    "plt.ylabel('Wind Speed (mph)')\n",
    "plt.title('City Latitude vs. Wind Speed')\n",
    "plt.grid()\n",
    "plt.show()"
   ]
  },
  {
   "cell_type": "markdown",
   "metadata": {},
   "source": [
    "## Linear Regression"
   ]
  },
  {
   "cell_type": "code",
   "execution_count": 24,
   "metadata": {},
   "outputs": [],
   "source": []
  },
  {
   "cell_type": "markdown",
   "metadata": {},
   "source": [
    "####  Northern Hemisphere - Max Temp vs. Latitude Linear Regression"
   ]
  },
  {
   "cell_type": "code",
   "execution_count": 25,
   "metadata": {},
   "outputs": [
    {
     "name": "stdout",
     "output_type": "stream",
     "text": [
      "The r-value is: 0.46937863826630627\n"
     ]
    },
    {
     "data": {
      "image/png": "[encoded data removed]",
      "text/plain": [
       "<Figure size 432x288 with 1 Axes>"
      ]
     },
     "metadata": {
      "needs_background": "light"
     },
     "output_type": "display_data"
    }
   ],
   "source": []
  },
  {
   "cell_type": "markdown",
   "metadata": {},
   "source": [
    "####  Southern Hemisphere - Max Temp vs. Latitude Linear Regression"
   ]
  },
  {
   "cell_type": "code",
   "execution_count": 26,
   "metadata": {},
   "outputs": [
    {
     "name": "stdout",
     "output_type": "stream",
     "text": [
      "The r-value is: 0.6082708688906918\n"
     ]
    },
    {
     "data": {
      "image/png": "[encoded data removed]",
      "text/plain": [
       "<Figure size 432x288 with 1 Axes>"
      ]
     },
     "metadata": {
      "needs_background": "light"
     },
     "output_type": "display_data"
    }
   ],
   "source": []
  },
  {
   "cell_type": "markdown",
   "metadata": {},
   "source": [
    "####  Northern Hemisphere - Humidity (%) vs. Latitude Linear Regression"
   ]
  },
  {
   "cell_type": "code",
   "execution_count": 27,
   "metadata": {},
   "outputs": [
    {
     "name": "stdout",
     "output_type": "stream",
     "text": [
      "The r-value is: 0.000543987878808455\n"
     ]
    },
    {
     "data": {
      "image/png": "[encoded data removed]",
      "text/plain": [
       "<Figure size 432x288 with 1 Axes>"
      ]
     },
     "metadata": {
      "needs_background": "light"
     },
     "output_type": "display_data"
    }
   ],
   "source": []
  },
  {
   "cell_type": "markdown",
   "metadata": {},
   "source": [
    "####  Southern Hemisphere - Humidity (%) vs. Latitude Linear Regression"
   ]
  },
  {
   "cell_type": "code",
   "execution_count": 28,
   "metadata": {},
   "outputs": [
    {
     "name": "stdout",
     "output_type": "stream",
     "text": [
      "The r-value is: 0.014985174297345524\n"
     ]
    },
    {
     "data": {
      "image/png": "[encoded data removed]",
      "text/plain": [
       "<Figure size 432x288 with 1 Axes>"
      ]
     },
     "metadata": {
      "needs_background": "light"
     },
     "output_type": "display_data"
    }
   ],
   "source": []
  },
  {
   "cell_type": "markdown",
   "metadata": {},
   "source": [
    "####  Northern Hemisphere - Cloudiness (%) vs. Latitude Linear Regression"
   ]
  },
  {
   "cell_type": "code",
   "execution_count": 29,
   "metadata": {},
   "outputs": [
    {
     "name": "stdout",
     "output_type": "stream",
     "text": [
      "The r-value is: 0.0020898727664228514\n"
     ]
    },
    {
     "data": {
      "image/png": "[encoded data removed]",
      "text/plain": [
       "<Figure size 432x288 with 1 Axes>"
      ]
     },
     "metadata": {
      "needs_background": "light"
     },
     "output_type": "display_data"
    }
   ],
   "source": []
  },
  {
   "cell_type": "markdown",
   "metadata": {},
   "source": [
    "####  Southern Hemisphere - Cloudiness (%) vs. Latitude Linear Regression"
   ]
  },
  {
   "cell_type": "code",
   "execution_count": 30,
   "metadata": {},
   "outputs": [
    {
     "name": "stdout",
     "output_type": "stream",
     "text": [
      "The r-value is: 0.0035263772085582894\n"
     ]
    },
    {
     "data": {
      "image/png": "[encoded data removed]",
      "text/plain": [
       "<Figure size 432x288 with 1 Axes>"
      ]
     },
     "metadata": {
      "needs_background": "light"
     },
     "output_type": "display_data"
    }
   ],
   "source": []
  },
  {
   "cell_type": "markdown",
   "metadata": {},
   "source": [
    "####  Northern Hemisphere - Wind Speed (mph) vs. Latitude Linear Regression"
   ]
  },
  {
   "cell_type": "code",
   "execution_count": 31,
   "metadata": {},
   "outputs": [
    {
     "name": "stdout",
     "output_type": "stream",
     "text": [
      "The r-value is: 0.04019723576144484\n"
     ]
    },
    {
     "data": {
      "image/png": "[encoded data removed]",
      "text/plain": [
       "<Figure size 432x288 with 1 Axes>"
      ]
     },
     "metadata": {
      "needs_background": "light"
     },
     "output_type": "display_data"
    }
   ],
   "source": []
  },
  {
   "cell_type": "markdown",
   "metadata": {},
   "source": [
    "####  Southern Hemisphere - Wind Speed (mph) vs. Latitude Linear Regression"
   ]
  },
  {
   "cell_type": "code",
   "execution_count": 32,
   "metadata": {},
   "outputs": [
    {
     "name": "stdout",
     "output_type": "stream",
     "text": [
      "The r-value is: 0.017128274759839232\n"
     ]
    },
    {
     "data": {
      "image/png": "[encoded data removed]",
      "text/plain": [
       "<Figure size 432x288 with 1 Axes>"
      ]
     },
     "metadata": {
      "needs_background": "light"
     },
     "output_type": "display_data"
    }
   ],
   "source": []
  },
  {
   "cell_type": "code",
   "execution_count": null,
   "metadata": {},
   "outputs": [],
   "source": []
  }
 ],
 "metadata": {
  "anaconda-cloud": {},
  "kernel_info": {
   "name": "python3"
  },
  "kernelspec": {
   "display_name": "Python (PythonData)",
   "language": "python",
   "name": "pythondata"
  },
  "language_info": {
   "codemirror_mode": {
    "name": "ipython",
    "version": 3
   },
   "file_extension": ".py",
   "mimetype": "text/x-python",
   "name": "python",
   "nbconvert_exporter": "python",
   "pygments_lexer": "ipython3",
   "version": "3.8.5"
  },
  "latex_envs": {
   "LaTeX_envs_menu_present": true,
   "autoclose": false,
   "autocomplete": true,
   "bibliofile": "biblio.bib",
   "cite_by": "apalike",
   "current_citInitial": 1,
   "eqLabelWithNumbers": true,
   "eqNumInitial": 1,
   "hotkeys": {
    "equation": "Ctrl-E",
    "itemize": "Ctrl-I"
   },
   "labels_anchors": false,
   "latex_user_defs": false,
   "report_style_numbering": false,
   "user_envs_cfg": false
  },
  "nteract": {
   "version": "0.12.3"
  }
 },
 "nbformat": 4,
 "nbformat_minor": 2
}
